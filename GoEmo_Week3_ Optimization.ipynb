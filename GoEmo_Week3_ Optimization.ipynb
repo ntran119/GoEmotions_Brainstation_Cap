{
 "cells": [
  {
   "attachments": {},
   "cell_type": "markdown",
   "metadata": {},
   "source": [
    "# Week 3 - Hyperparameter Optimization with K-fold Cross Validation\n",
    "\n",
    "- optimize multi class models with hyperparameter optimizations\n",
    "- use data with ambiguous observations (just positive/neutral/negative)\n",
    "- measure with precision and recall\n",
    "- predict optimized models on reddit comments"
   ]
  },
  {
   "cell_type": "code",
   "execution_count": 1,
   "metadata": {},
   "outputs": [],
   "source": [
    "# import libraries\n",
    "import numpy as np\n",
    "import pandas as pd\n",
    "import matplotlib.pyplot as plt"
   ]
  },
  {
   "cell_type": "code",
   "execution_count": 2,
   "metadata": {},
   "outputs": [
    {
     "name": "stdout",
     "output_type": "stream",
     "text": [
      "<class 'pandas.core.frame.DataFrame'>\n",
      "RangeIndex: 56873 entries, 0 to 56872\n",
      "Data columns (total 2 columns):\n",
      " #   Column     Non-Null Count  Dtype \n",
      "---  ------     --------------  ----- \n",
      " 0   text       56873 non-null  object\n",
      " 1   Sentiment  56873 non-null  int64 \n",
      "dtypes: int64(1), object(1)\n",
      "memory usage: 888.8+ KB\n"
     ]
    }
   ],
   "source": [
    "# read in data, use sentiment simple\n",
    "# dataframe with just text and sentiment\n",
    "GoEmo_df = pd.read_csv('GoEmotions_Sentiment_simple.csv')\n",
    "GoEmo_df.info()"
   ]
  },
  {
   "cell_type": "code",
   "execution_count": 3,
   "metadata": {},
   "outputs": [
    {
     "data": {
      "text/html": [
       "<div>\n",
       "<style scoped>\n",
       "    .dataframe tbody tr th:only-of-type {\n",
       "        vertical-align: middle;\n",
       "    }\n",
       "\n",
       "    .dataframe tbody tr th {\n",
       "        vertical-align: top;\n",
       "    }\n",
       "\n",
       "    .dataframe thead th {\n",
       "        text-align: right;\n",
       "    }\n",
       "</style>\n",
       "<table border=\"1\" class=\"dataframe\">\n",
       "  <thead>\n",
       "    <tr style=\"text-align: right;\">\n",
       "      <th></th>\n",
       "      <th>text</th>\n",
       "      <th>Sentiment</th>\n",
       "    </tr>\n",
       "  </thead>\n",
       "  <tbody>\n",
       "    <tr>\n",
       "      <th>0</th>\n",
       "      <td>Fast as [NAME] will carry me. Seriously uptown...</td>\n",
       "      <td>0</td>\n",
       "    </tr>\n",
       "    <tr>\n",
       "      <th>1</th>\n",
       "      <td>You blew it. They played you like a fiddle.</td>\n",
       "      <td>1</td>\n",
       "    </tr>\n",
       "    <tr>\n",
       "      <th>2</th>\n",
       "      <td>TL;DR No more Superbowls for [NAME]. Get ready...</td>\n",
       "      <td>2</td>\n",
       "    </tr>\n",
       "    <tr>\n",
       "      <th>3</th>\n",
       "      <td>So much time saved. Not.</td>\n",
       "      <td>3</td>\n",
       "    </tr>\n",
       "    <tr>\n",
       "      <th>4</th>\n",
       "      <td>Emotes have a ridiculous amount of effort put ...</td>\n",
       "      <td>1</td>\n",
       "    </tr>\n",
       "    <tr>\n",
       "      <th>...</th>\n",
       "      <td>...</td>\n",
       "      <td>...</td>\n",
       "    </tr>\n",
       "    <tr>\n",
       "      <th>56868</th>\n",
       "      <td>[NAME]. I’m not sure you’ll feel the same way ...</td>\n",
       "      <td>3</td>\n",
       "    </tr>\n",
       "    <tr>\n",
       "      <th>56869</th>\n",
       "      <td>I can see why! I would totally be offended too!</td>\n",
       "      <td>2</td>\n",
       "    </tr>\n",
       "    <tr>\n",
       "      <th>56870</th>\n",
       "      <td>Approaching doesn't work unless you are [NAME]...</td>\n",
       "      <td>1</td>\n",
       "    </tr>\n",
       "    <tr>\n",
       "      <th>56871</th>\n",
       "      <td>Hahaha perfect.</td>\n",
       "      <td>0</td>\n",
       "    </tr>\n",
       "    <tr>\n",
       "      <th>56872</th>\n",
       "      <td>Ok now that was epic!</td>\n",
       "      <td>1</td>\n",
       "    </tr>\n",
       "  </tbody>\n",
       "</table>\n",
       "<p>56873 rows × 2 columns</p>\n",
       "</div>"
      ],
      "text/plain": [
       "                                                    text  Sentiment\n",
       "0      Fast as [NAME] will carry me. Seriously uptown...          0\n",
       "1            You blew it. They played you like a fiddle.          1\n",
       "2      TL;DR No more Superbowls for [NAME]. Get ready...          2\n",
       "3                               So much time saved. Not.          3\n",
       "4      Emotes have a ridiculous amount of effort put ...          1\n",
       "...                                                  ...        ...\n",
       "56868  [NAME]. I’m not sure you’ll feel the same way ...          3\n",
       "56869    I can see why! I would totally be offended too!          2\n",
       "56870  Approaching doesn't work unless you are [NAME]...          1\n",
       "56871                                    Hahaha perfect.          0\n",
       "56872                              Ok now that was epic!          1\n",
       "\n",
       "[56873 rows x 2 columns]"
      ]
     },
     "execution_count": 3,
     "metadata": {},
     "output_type": "execute_result"
    }
   ],
   "source": [
    "GoEmo_df"
   ]
  },
  {
   "attachments": {},
   "cell_type": "markdown",
   "metadata": {},
   "source": [
    "positive = 0\n",
    "neutral = 1\n",
    "negative = 2"
   ]
  },
  {
   "cell_type": "code",
   "execution_count": 4,
   "metadata": {},
   "outputs": [],
   "source": [
    "# remove ambiguous rows\n",
    "no_amb = GoEmo_df[GoEmo_df['Sentiment'] < 3]"
   ]
  },
  {
   "cell_type": "code",
   "execution_count": 5,
   "metadata": {},
   "outputs": [
    {
     "data": {
      "text/html": [
       "<div>\n",
       "<style scoped>\n",
       "    .dataframe tbody tr th:only-of-type {\n",
       "        vertical-align: middle;\n",
       "    }\n",
       "\n",
       "    .dataframe tbody tr th {\n",
       "        vertical-align: top;\n",
       "    }\n",
       "\n",
       "    .dataframe thead th {\n",
       "        text-align: right;\n",
       "    }\n",
       "</style>\n",
       "<table border=\"1\" class=\"dataframe\">\n",
       "  <thead>\n",
       "    <tr style=\"text-align: right;\">\n",
       "      <th></th>\n",
       "      <th>text</th>\n",
       "      <th>Sentiment</th>\n",
       "    </tr>\n",
       "  </thead>\n",
       "  <tbody>\n",
       "    <tr>\n",
       "      <th>0</th>\n",
       "      <td>Fast as [NAME] will carry me. Seriously uptown...</td>\n",
       "      <td>0</td>\n",
       "    </tr>\n",
       "    <tr>\n",
       "      <th>1</th>\n",
       "      <td>You blew it. They played you like a fiddle.</td>\n",
       "      <td>1</td>\n",
       "    </tr>\n",
       "    <tr>\n",
       "      <th>2</th>\n",
       "      <td>TL;DR No more Superbowls for [NAME]. Get ready...</td>\n",
       "      <td>2</td>\n",
       "    </tr>\n",
       "    <tr>\n",
       "      <th>4</th>\n",
       "      <td>Emotes have a ridiculous amount of effort put ...</td>\n",
       "      <td>1</td>\n",
       "    </tr>\n",
       "    <tr>\n",
       "      <th>5</th>\n",
       "      <td>Just life.. I feel like i'm just a parasite th...</td>\n",
       "      <td>2</td>\n",
       "    </tr>\n",
       "    <tr>\n",
       "      <th>...</th>\n",
       "      <td>...</td>\n",
       "      <td>...</td>\n",
       "    </tr>\n",
       "    <tr>\n",
       "      <th>56867</th>\n",
       "      <td>Stop, this is a safe space.</td>\n",
       "      <td>1</td>\n",
       "    </tr>\n",
       "    <tr>\n",
       "      <th>56869</th>\n",
       "      <td>I can see why! I would totally be offended too!</td>\n",
       "      <td>2</td>\n",
       "    </tr>\n",
       "    <tr>\n",
       "      <th>56870</th>\n",
       "      <td>Approaching doesn't work unless you are [NAME]...</td>\n",
       "      <td>1</td>\n",
       "    </tr>\n",
       "    <tr>\n",
       "      <th>56871</th>\n",
       "      <td>Hahaha perfect.</td>\n",
       "      <td>0</td>\n",
       "    </tr>\n",
       "    <tr>\n",
       "      <th>56872</th>\n",
       "      <td>Ok now that was epic!</td>\n",
       "      <td>1</td>\n",
       "    </tr>\n",
       "  </tbody>\n",
       "</table>\n",
       "<p>51683 rows × 2 columns</p>\n",
       "</div>"
      ],
      "text/plain": [
       "                                                    text  Sentiment\n",
       "0      Fast as [NAME] will carry me. Seriously uptown...          0\n",
       "1            You blew it. They played you like a fiddle.          1\n",
       "2      TL;DR No more Superbowls for [NAME]. Get ready...          2\n",
       "4      Emotes have a ridiculous amount of effort put ...          1\n",
       "5      Just life.. I feel like i'm just a parasite th...          2\n",
       "...                                                  ...        ...\n",
       "56867                        Stop, this is a safe space.          1\n",
       "56869    I can see why! I would totally be offended too!          2\n",
       "56870  Approaching doesn't work unless you are [NAME]...          1\n",
       "56871                                    Hahaha perfect.          0\n",
       "56872                              Ok now that was epic!          1\n",
       "\n",
       "[51683 rows x 2 columns]"
      ]
     },
     "execution_count": 5,
     "metadata": {},
     "output_type": "execute_result"
    }
   ],
   "source": [
    "no_amb"
   ]
  },
  {
   "cell_type": "code",
   "execution_count": 6,
   "metadata": {},
   "outputs": [],
   "source": [
    "# store simplified data in X and y\n",
    "X = no_amb['text']\n",
    "y = no_amb['Sentiment']"
   ]
  },
  {
   "cell_type": "code",
   "execution_count": 7,
   "metadata": {},
   "outputs": [],
   "source": [
    "# splitting our data into train and test sets\n",
    "# stratify on sentiment\n",
    "from sklearn.model_selection import train_test_split\n",
    "X_train, X_test, y_train, y_test = train_test_split(X, y, test_size=0.25, random_state=42, stratify=y)"
   ]
  },
  {
   "cell_type": "code",
   "execution_count": 8,
   "metadata": {},
   "outputs": [
    {
     "data": {
      "text/plain": [
       "<38762x1713 sparse matrix of type '<class 'numpy.int64'>'\n",
       "\twith 154603 stored elements in Compressed Sparse Row format>"
      ]
     },
     "execution_count": 8,
     "metadata": {},
     "output_type": "execute_result"
    }
   ],
   "source": [
    "from sklearn.feature_extraction.text import CountVectorizer\n",
    "\n",
    "# 1. Instantiate\n",
    "bagofwords = CountVectorizer(stop_words=\"english\",\n",
    "                             min_df= 20)\n",
    "# 2. Fit\n",
    "bagofwords.fit(X_train)\n",
    "\n",
    "# 3. Transform\n",
    "X_train_transformed = bagofwords.transform(X_train)\n",
    "X_test_transformed = bagofwords.transform(X_test) \n",
    "X_train_transformed"
   ]
  },
  {
   "cell_type": "code",
   "execution_count": 10,
   "metadata": {},
   "outputs": [
    {
     "name": "stdout",
     "output_type": "stream",
     "text": [
      "Train score: 0.7144110211031423\n",
      "Test score: 0.6812166241003018\n"
     ]
    },
    {
     "name": "stderr",
     "output_type": "stream",
     "text": [
      "c:\\Users\\trann\\anaconda3\\lib\\site-packages\\sklearn\\linear_model\\_logistic.py:814: ConvergenceWarning: lbfgs failed to converge (status=1):\n",
      "STOP: TOTAL NO. of ITERATIONS REACHED LIMIT.\n",
      "\n",
      "Increase the number of iterations (max_iter) or scale the data as shown in:\n",
      "    https://scikit-learn.org/stable/modules/preprocessing.html\n",
      "Please also refer to the documentation for alternative solver options:\n",
      "    https://scikit-learn.org/stable/modules/linear_model.html#logistic-regression\n",
      "  n_iter_i = _check_optimize_result(\n"
     ]
    }
   ],
   "source": [
    "from sklearn.linear_model import LogisticRegression\n",
    "\n",
    "# Fitting a model\n",
    "logreg = LogisticRegression()\n",
    "logreg.fit(X_train_transformed, y_train)\n",
    "\n",
    "# Training and test score\n",
    "print(f\"Train score: {logreg.score(X_train_transformed, y_train)}\")\n",
    "print(f\"Test score: {logreg.score(X_test_transformed, y_test)}\")"
   ]
  },
  {
   "cell_type": "code",
   "execution_count": 11,
   "metadata": {},
   "outputs": [],
   "source": [
    "# predict on test data to compare with y_test\n",
    "y_pred = logreg.predict(X_test_transformed)"
   ]
  },
  {
   "cell_type": "code",
   "execution_count": 12,
   "metadata": {},
   "outputs": [],
   "source": [
    "# make confusion matrix\n",
    "from sklearn.metrics import confusion_matrix, ConfusionMatrixDisplay\n",
    "\n",
    "# Generate confusion matrix\n",
    "cf_matrix = confusion_matrix(y_test, y_pred)"
   ]
  },
  {
   "cell_type": "code",
   "execution_count": 13,
   "metadata": {},
   "outputs": [
    {
     "data": {
      "text/plain": [
       "array([[3764, 1227,  187],\n",
       "       [ 703, 3681,  529],\n",
       "       [ 268, 1205, 1357]], dtype=int64)"
      ]
     },
     "metadata": {},
     "output_type": "display_data"
    }
   ],
   "source": [
    "display(cf_matrix)"
   ]
  },
  {
   "cell_type": "code",
   "execution_count": 14,
   "metadata": {},
   "outputs": [
    {
     "data": {
      "text/html": [
       "<div>\n",
       "<style scoped>\n",
       "    .dataframe tbody tr th:only-of-type {\n",
       "        vertical-align: middle;\n",
       "    }\n",
       "\n",
       "    .dataframe tbody tr th {\n",
       "        vertical-align: top;\n",
       "    }\n",
       "\n",
       "    .dataframe thead th {\n",
       "        text-align: right;\n",
       "    }\n",
       "</style>\n",
       "<table border=\"1\" class=\"dataframe\">\n",
       "  <thead>\n",
       "    <tr style=\"text-align: right;\">\n",
       "      <th></th>\n",
       "      <th>Predicted Pos</th>\n",
       "      <th>Predicted Neut</th>\n",
       "      <th>Predicted Neg</th>\n",
       "    </tr>\n",
       "  </thead>\n",
       "  <tbody>\n",
       "    <tr>\n",
       "      <th>True Pos</th>\n",
       "      <td>3764</td>\n",
       "      <td>1227</td>\n",
       "      <td>187</td>\n",
       "    </tr>\n",
       "    <tr>\n",
       "      <th>True Neut</th>\n",
       "      <td>703</td>\n",
       "      <td>3681</td>\n",
       "      <td>529</td>\n",
       "    </tr>\n",
       "    <tr>\n",
       "      <th>True Neg</th>\n",
       "      <td>268</td>\n",
       "      <td>1205</td>\n",
       "      <td>1357</td>\n",
       "    </tr>\n",
       "  </tbody>\n",
       "</table>\n",
       "</div>"
      ],
      "text/plain": [
       "           Predicted Pos  Predicted Neut  Predicted Neg\n",
       "True Pos            3764            1227            187\n",
       "True Neut            703            3681            529\n",
       "True Neg             268            1205           1357"
      ]
     },
     "metadata": {},
     "output_type": "display_data"
    }
   ],
   "source": [
    "# label rows and columns\n",
    "cf_df = pd.DataFrame(\n",
    "    cf_matrix, \n",
    "    columns=[\"Predicted Pos\", \"Predicted Neut\", 'Predicted Neg'],\n",
    "    index=[\"True Pos\", \"True Neut\", 'True Neg']\n",
    ")\n",
    "\n",
    "display(cf_df)"
   ]
  },
  {
   "cell_type": "code",
   "execution_count": 15,
   "metadata": {},
   "outputs": [
    {
     "name": "stdout",
     "output_type": "stream",
     "text": [
      "              precision    recall  f1-score   support\n",
      "\n",
      "           0       0.79      0.73      0.76      5178\n",
      "           1       0.60      0.75      0.67      4913\n",
      "           2       0.65      0.48      0.55      2830\n",
      "\n",
      "    accuracy                           0.68     12921\n",
      "   macro avg       0.68      0.65      0.66     12921\n",
      "weighted avg       0.69      0.68      0.68     12921\n",
      "\n"
     ]
    }
   ],
   "source": [
    "# check prescision/recall scores\n",
    "from sklearn.metrics import classification_report\n",
    "\n",
    "report_initial = classification_report(y_test, y_pred)\n",
    "print(report_initial)"
   ]
  },
  {
   "cell_type": "code",
   "execution_count": 16,
   "metadata": {},
   "outputs": [
    {
     "data": {
      "text/plain": [
       "0    0.400712\n",
       "1    0.380280\n",
       "2    0.219008\n",
       "Name: Sentiment, dtype: float64"
      ]
     },
     "execution_count": 16,
     "metadata": {},
     "output_type": "execute_result"
    }
   ],
   "source": [
    "y.value_counts(normalize = True)"
   ]
  },
  {
   "attachments": {},
   "cell_type": "markdown",
   "metadata": {},
   "source": [
    "              precision    recall  f1-score   support\n",
    "\n",
    "      positive       0.79      0.73      0.76      5178\n",
    "      neutral        0.60      0.75      0.67      4913\n",
    "      negative       0.65      0.48      0.55      2830"
   ]
  },
  {
   "attachments": {},
   "cell_type": "markdown",
   "metadata": {},
   "source": [
    "# Hyperparameter optimization\n",
    "\n",
    "## Logistic Regression\n",
    "- solvers (lbfgs, sag, saga, liblinear), \n",
    "- penalty (l2 vs l1)\n",
    "- C regularization strength (0.0001 - 100)"
   ]
  },
  {
   "cell_type": "code",
   "execution_count": 55,
   "metadata": {},
   "outputs": [],
   "source": [
    "# 30% split, validation sets\n",
    "X_train_new, X_validation, y_train_new, y_validation = train_test_split(X_train, y_train, test_size = 0.3, random_state=1, stratify=y_train)"
   ]
  },
  {
   "cell_type": "code",
   "execution_count": 56,
   "metadata": {},
   "outputs": [
    {
     "name": "stdout",
     "output_type": "stream",
     "text": [
      "Shape of X validation set: (11629,)\n",
      "Shape of X train set: (27133,)\n",
      "Shape of y validation set: (11629,)\n",
      "Shape of y train set: (27133,)\n"
     ]
    }
   ],
   "source": [
    "# check shapes of new sets\n",
    "print(f'Shape of X validation set: {X_validation.shape}')\n",
    "print(f'Shape of X train set: {X_train_new.shape}')\n",
    "\n",
    "print(f'Shape of y validation set: {y_validation.shape}')\n",
    "print(f'Shape of y train set: {y_train_new.shape}')"
   ]
  },
  {
   "cell_type": "code",
   "execution_count": 57,
   "metadata": {},
   "outputs": [
    {
     "data": {
      "text/plain": [
       "0    0.400693\n",
       "1    0.380312\n",
       "2    0.218995\n",
       "Name: Sentiment, dtype: float64"
      ]
     },
     "execution_count": 57,
     "metadata": {},
     "output_type": "execute_result"
    }
   ],
   "source": [
    "# check if stratify worked\n",
    "y_train_new.value_counts(normalize = True)"
   ]
  },
  {
   "cell_type": "code",
   "execution_count": 58,
   "metadata": {},
   "outputs": [
    {
     "data": {
      "text/plain": [
       "0    0.400722\n",
       "1    0.380256\n",
       "2    0.219021\n",
       "Name: Sentiment, dtype: float64"
      ]
     },
     "execution_count": 58,
     "metadata": {},
     "output_type": "execute_result"
    }
   ],
   "source": [
    "y_validation.value_counts(normalize = True)"
   ]
  },
  {
   "cell_type": "code",
   "execution_count": 59,
   "metadata": {},
   "outputs": [],
   "source": [
    "# 1. Instantiate\n",
    "bagofwords_hyper = CountVectorizer(stop_words=\"english\",\n",
    "                             min_df= 20)\n",
    "# 2. Fit\n",
    "bagofwords_hyper.fit(X_train_new)\n",
    "\n",
    "# 3. Transform\n",
    "X_train_transformed_new = bagofwords_hyper.transform(X_train_new)\n",
    "X_validation_transformed_new = bagofwords_hyper.transform(X_validation) "
   ]
  },
  {
   "cell_type": "code",
   "execution_count": 60,
   "metadata": {},
   "outputs": [],
   "source": [
    "# for loop to  to find optimal value of K\n",
    "solver_list = ['lbfgs', 'sag', 'saga', 'liblinear']\n",
    "train_scores = []\n",
    "validation_scores = []\n",
    "\n",
    "\n",
    "for sol in solver_list:  \n",
    "    logreg_hyper = LogisticRegression(C=0.1, solver = sol)\n",
    "    logreg_hyper.fit(X_train_transformed_new, y_train_new)\n",
    "    \n",
    "    # Evaluate\n",
    "    train_scores.append(logreg_hyper.score(X_train_transformed_new, y_train_new))\n",
    "    validation_scores.append(logreg_hyper.score(X_validation_transformed_new, y_validation))"
   ]
  },
  {
   "cell_type": "code",
   "execution_count": 61,
   "metadata": {},
   "outputs": [
    {
     "data": {
      "text/plain": [
       "[0.6956473666752663,\n",
       " 0.6956842221648915,\n",
       " 0.6959422105922677,\n",
       " 0.6880919913021044]"
      ]
     },
     "execution_count": 61,
     "metadata": {},
     "output_type": "execute_result"
    }
   ],
   "source": [
    "train_scores"
   ]
  },
  {
   "cell_type": "code",
   "execution_count": 62,
   "metadata": {},
   "outputs": [
    {
     "data": {
      "text/plain": [
       "[0.6728007567288675,\n",
       " 0.6728007567288675,\n",
       " 0.6732307163126666,\n",
       " 0.6709949264769112]"
      ]
     },
     "execution_count": 62,
     "metadata": {},
     "output_type": "execute_result"
    }
   ],
   "source": [
    "validation_scores"
   ]
  },
  {
   "attachments": {},
   "cell_type": "markdown",
   "metadata": {},
   "source": [
    "SAGA solver is the best?"
   ]
  },
  {
   "cell_type": "code",
   "execution_count": 63,
   "metadata": {},
   "outputs": [
    {
     "name": "stderr",
     "output_type": "stream",
     "text": [
      "c:\\Users\\trann\\anaconda3\\lib\\site-packages\\sklearn\\linear_model\\_sag.py:352: ConvergenceWarning: The max_iter was reached which means the coef_ did not converge\n",
      "  warnings.warn(\n",
      "c:\\Users\\trann\\anaconda3\\lib\\site-packages\\sklearn\\linear_model\\_sag.py:352: ConvergenceWarning: The max_iter was reached which means the coef_ did not converge\n",
      "  warnings.warn(\n",
      "c:\\Users\\trann\\anaconda3\\lib\\site-packages\\sklearn\\linear_model\\_sag.py:352: ConvergenceWarning: The max_iter was reached which means the coef_ did not converge\n",
      "  warnings.warn(\n",
      "c:\\Users\\trann\\anaconda3\\lib\\site-packages\\sklearn\\linear_model\\_sag.py:352: ConvergenceWarning: The max_iter was reached which means the coef_ did not converge\n",
      "  warnings.warn(\n"
     ]
    }
   ],
   "source": [
    "# for loop to  to find optimal value of K\n",
    "c_list = [10000, 1000, 100, 10, 1, 0.1, 0.01, 0.001, 0.0001, 0.00001]\n",
    "train_scores = []\n",
    "validation_scores = []\n",
    "\n",
    "\n",
    "for C_ in c_list:  \n",
    "    logreg_hyper = LogisticRegression(solver = 'saga', C=C_)\n",
    "    logreg_hyper.fit(X_train_transformed_new, y_train_new)\n",
    "    \n",
    "    # Evaluate\n",
    "    train_scores.append(logreg_hyper.score(X_train_transformed_new, y_train_new))\n",
    "    validation_scores.append(logreg_hyper.score(X_validation_transformed_new, y_validation))"
   ]
  },
  {
   "cell_type": "code",
   "execution_count": 64,
   "metadata": {},
   "outputs": [
    {
     "data": {
      "text/plain": [
       "[0.7106844064423395,\n",
       " 0.7106844064423395,\n",
       " 0.7107581174215899,\n",
       " 0.7108686838904655,\n",
       " 0.7096524527328345,\n",
       " 0.6959790660818929,\n",
       " 0.6402904212582464,\n",
       " 0.5958427007702798,\n",
       " 0.40091401614270444,\n",
       " 0.4006928832049534]"
      ]
     },
     "execution_count": 64,
     "metadata": {},
     "output_type": "execute_result"
    }
   ],
   "source": [
    "train_scores"
   ]
  },
  {
   "cell_type": "code",
   "execution_count": 65,
   "metadata": {},
   "outputs": [
    {
     "data": {
      "text/plain": [
       "[0.6674692578897584,\n",
       " 0.6674692578897584,\n",
       " 0.6672972740562387,\n",
       " 0.6677272336400378,\n",
       " 0.6680712013070771,\n",
       " 0.6732307163126666,\n",
       " 0.634362369937226,\n",
       " 0.5905924843064752,\n",
       " 0.4007223321007825,\n",
       " 0.4007223321007825]"
      ]
     },
     "execution_count": 65,
     "metadata": {},
     "output_type": "execute_result"
    }
   ],
   "source": [
    "validation_scores"
   ]
  },
  {
   "attachments": {},
   "cell_type": "markdown",
   "metadata": {},
   "source": [
    "C = 0.01 is best"
   ]
  },
  {
   "cell_type": "code",
   "execution_count": 66,
   "metadata": {},
   "outputs": [
    {
     "name": "stderr",
     "output_type": "stream",
     "text": [
      "c:\\Users\\trann\\anaconda3\\lib\\site-packages\\sklearn\\linear_model\\_logistic.py:1476: UserWarning: l1_ratio parameter is only used when penalty is 'elasticnet'. Got (penalty=l1)\n",
      "  warnings.warn(\n",
      "c:\\Users\\trann\\anaconda3\\lib\\site-packages\\sklearn\\linear_model\\_logistic.py:1476: UserWarning: l1_ratio parameter is only used when penalty is 'elasticnet'. Got (penalty=l2)\n",
      "  warnings.warn(\n",
      "c:\\Users\\trann\\anaconda3\\lib\\site-packages\\sklearn\\linear_model\\_logistic.py:1476: UserWarning: l1_ratio parameter is only used when penalty is 'elasticnet'. Got (penalty=none)\n",
      "  warnings.warn(\n",
      "c:\\Users\\trann\\anaconda3\\lib\\site-packages\\sklearn\\linear_model\\_logistic.py:1483: UserWarning: Setting penalty='none' will ignore the C and l1_ratio parameters\n",
      "  warnings.warn(\n",
      "c:\\Users\\trann\\anaconda3\\lib\\site-packages\\sklearn\\linear_model\\_sag.py:352: ConvergenceWarning: The max_iter was reached which means the coef_ did not converge\n",
      "  warnings.warn(\n"
     ]
    }
   ],
   "source": [
    "# for loop to  to find optimal value of K\n",
    "pen_list = ['l1','l2','elasticnet','none']\n",
    "train_scores = []\n",
    "validation_scores = []\n",
    "\n",
    "\n",
    "for pen in pen_list:  \n",
    "    logreg_hyper = LogisticRegression(solver = 'saga', C=0.1, penalty = pen, l1_ratio=1)\n",
    "    logreg_hyper.fit(X_train_transformed_new, y_train_new)\n",
    "    \n",
    "    # Evaluate\n",
    "    train_scores.append(logreg_hyper.score(X_train_transformed_new, y_train_new))\n",
    "    validation_scores.append(logreg_hyper.score(X_validation_transformed_new, y_validation))"
   ]
  },
  {
   "cell_type": "code",
   "execution_count": 67,
   "metadata": {},
   "outputs": [
    {
     "data": {
      "text/plain": [
       "[0.6702539343235175,\n",
       " 0.6959422105922677,\n",
       " 0.6702539343235175,\n",
       " 0.7107212619319647]"
      ]
     },
     "execution_count": 67,
     "metadata": {},
     "output_type": "execute_result"
    }
   ],
   "source": [
    "train_scores"
   ]
  },
  {
   "cell_type": "code",
   "execution_count": 68,
   "metadata": {},
   "outputs": [
    {
     "data": {
      "text/plain": [
       "[0.6642015650528851,\n",
       " 0.6732307163126666,\n",
       " 0.6642015650528851,\n",
       " 0.6674692578897584]"
      ]
     },
     "execution_count": 68,
     "metadata": {},
     "output_type": "execute_result"
    }
   ],
   "source": [
    "validation_scores"
   ]
  },
  {
   "attachments": {},
   "cell_type": "markdown",
   "metadata": {},
   "source": [
    "L2 is the best penalty?\n",
    "\n",
    "# Summary\n",
    "Best parameters:\n",
    "- solver = saga\n",
    "- C = 0.1\n",
    "- penalty = l2"
   ]
  },
  {
   "cell_type": "code",
   "execution_count": 17,
   "metadata": {},
   "outputs": [
    {
     "name": "stdout",
     "output_type": "stream",
     "text": [
      "Train score: 0.702672720705846\n",
      "Test score: 0.6813714108815108\n"
     ]
    }
   ],
   "source": [
    "# Fitting a model\n",
    "logreg_hyper = LogisticRegression(solver = 'saga',\n",
    "                             C = 0.1, \n",
    "                             penalty='l2')\n",
    "\n",
    "logreg_hyper.fit(X_train_transformed, y_train)\n",
    "\n",
    "# Training and test score\n",
    "print(f\"Train score: {logreg_hyper.score(X_train_transformed, y_train)}\")\n",
    "print(f\"Test score: {logreg_hyper.score(X_test_transformed, y_test)}\")"
   ]
  },
  {
   "attachments": {},
   "cell_type": "markdown",
   "metadata": {},
   "source": [
    "65.08-65.06 = 0.02 increase in accuracy\n",
    "hmmm?"
   ]
  },
  {
   "cell_type": "code",
   "execution_count": 18,
   "metadata": {},
   "outputs": [
    {
     "data": {
      "text/html": [
       "<div>\n",
       "<style scoped>\n",
       "    .dataframe tbody tr th:only-of-type {\n",
       "        vertical-align: middle;\n",
       "    }\n",
       "\n",
       "    .dataframe tbody tr th {\n",
       "        vertical-align: top;\n",
       "    }\n",
       "\n",
       "    .dataframe thead th {\n",
       "        text-align: right;\n",
       "    }\n",
       "</style>\n",
       "<table border=\"1\" class=\"dataframe\">\n",
       "  <thead>\n",
       "    <tr style=\"text-align: right;\">\n",
       "      <th></th>\n",
       "      <th>Predicted Pos</th>\n",
       "      <th>Predicted Neut</th>\n",
       "      <th>Predicted Neg</th>\n",
       "    </tr>\n",
       "  </thead>\n",
       "  <tbody>\n",
       "    <tr>\n",
       "      <th>True Pos</th>\n",
       "      <td>3702</td>\n",
       "      <td>1323</td>\n",
       "      <td>153</td>\n",
       "    </tr>\n",
       "    <tr>\n",
       "      <th>True Neut</th>\n",
       "      <td>606</td>\n",
       "      <td>3912</td>\n",
       "      <td>395</td>\n",
       "    </tr>\n",
       "    <tr>\n",
       "      <th>True Neg</th>\n",
       "      <td>258</td>\n",
       "      <td>1382</td>\n",
       "      <td>1190</td>\n",
       "    </tr>\n",
       "  </tbody>\n",
       "</table>\n",
       "</div>"
      ],
      "text/plain": [
       "           Predicted Pos  Predicted Neut  Predicted Neg\n",
       "True Pos            3702            1323            153\n",
       "True Neut            606            3912            395\n",
       "True Neg             258            1382           1190"
      ]
     },
     "metadata": {},
     "output_type": "display_data"
    }
   ],
   "source": [
    "# predict on test data to compare with y_test\n",
    "y_pred = logreg_hyper.predict(X_test_transformed)\n",
    "\n",
    "\n",
    "# Generate confusion matrix\n",
    "cf_matrix = confusion_matrix(y_test, y_pred)\n",
    "\n",
    "# label rows and columns\n",
    "cf_df = pd.DataFrame(\n",
    "    cf_matrix, \n",
    "    columns=[\"Predicted Pos\", \"Predicted Neut\", 'Predicted Neg'],\n",
    "    index=[\"True Pos\", \"True Neut\", 'True Neg']\n",
    ")\n",
    "\n",
    "display(cf_df)"
   ]
  },
  {
   "cell_type": "code",
   "execution_count": 19,
   "metadata": {},
   "outputs": [
    {
     "name": "stdout",
     "output_type": "stream",
     "text": [
      "              precision    recall  f1-score   support\n",
      "\n",
      "           0       0.81      0.71      0.76      5178\n",
      "           1       0.59      0.80      0.68      4913\n",
      "           2       0.68      0.42      0.52      2830\n",
      "\n",
      "    accuracy                           0.68     12921\n",
      "   macro avg       0.70      0.64      0.65     12921\n",
      "weighted avg       0.70      0.68      0.68     12921\n",
      "\n"
     ]
    }
   ],
   "source": [
    "report_initial = classification_report(y_test, y_pred)\n",
    "print(report_initial)"
   ]
  },
  {
   "attachments": {},
   "cell_type": "markdown",
   "metadata": {},
   "source": [
    "Overall my model got worse?\n",
    "- got worse at correctly predicting negative comments\n",
    "\n",
    "Use old model before trying to optimize\n",
    "\n",
    "\n",
    "# Reddit comment predictions\n",
    "- to see how a trained model looks on real world data\n",
    "- use base models and save everything to a big csv for dashboard "
   ]
  },
  {
   "cell_type": "code",
   "execution_count": 72,
   "metadata": {},
   "outputs": [],
   "source": [
    "# read in scraped data\n",
    "reddit = pd.read_csv('reddit_comments.csv')"
   ]
  },
  {
   "cell_type": "code",
   "execution_count": 73,
   "metadata": {},
   "outputs": [],
   "source": [
    "# rename 0 column to 'text'\n",
    "reddit.rename(columns = {'0':'text'}, inplace = True)"
   ]
  },
  {
   "cell_type": "code",
   "execution_count": 74,
   "metadata": {},
   "outputs": [
    {
     "data": {
      "text/html": [
       "<div>\n",
       "<style scoped>\n",
       "    .dataframe tbody tr th:only-of-type {\n",
       "        vertical-align: middle;\n",
       "    }\n",
       "\n",
       "    .dataframe tbody tr th {\n",
       "        vertical-align: top;\n",
       "    }\n",
       "\n",
       "    .dataframe thead th {\n",
       "        text-align: right;\n",
       "    }\n",
       "</style>\n",
       "<table border=\"1\" class=\"dataframe\">\n",
       "  <thead>\n",
       "    <tr style=\"text-align: right;\">\n",
       "      <th></th>\n",
       "      <th>text</th>\n",
       "    </tr>\n",
       "  </thead>\n",
       "  <tbody>\n",
       "    <tr>\n",
       "      <th>0</th>\n",
       "      <td>Chill everyone, the Newspost says that 7.33 wi...</td>\n",
       "    </tr>\n",
       "    <tr>\n",
       "      <th>1</th>\n",
       "      <td>At least CM (Crystal Maiden) not touched.</td>\n",
       "    </tr>\n",
       "    <tr>\n",
       "      <th>2</th>\n",
       "      <td>I wanna work with this devs since the work two...</td>\n",
       "    </tr>\n",
       "    <tr>\n",
       "      <th>3</th>\n",
       "      <td>7.32e hahahahahah</td>\n",
       "    </tr>\n",
       "    <tr>\n",
       "      <th>4</th>\n",
       "      <td># 7.32e Summary\\n\\n* New hero added to the gam...</td>\n",
       "    </tr>\n",
       "    <tr>\n",
       "      <th>...</th>\n",
       "      <td>...</td>\n",
       "    </tr>\n",
       "    <tr>\n",
       "      <th>187</th>\n",
       "      <td>4.2 GB for minor Lina nerf.  \\n\\n\\nI'm done wi...</td>\n",
       "    </tr>\n",
       "    <tr>\n",
       "      <th>188</th>\n",
       "      <td>This is bad lol. Barely any changes other than...</td>\n",
       "    </tr>\n",
       "    <tr>\n",
       "      <th>189</th>\n",
       "      <td>Hahahaha we overhyped the patch, it's literall...</td>\n",
       "    </tr>\n",
       "    <tr>\n",
       "      <th>190</th>\n",
       "      <td>No 7.33</td>\n",
       "    </tr>\n",
       "    <tr>\n",
       "      <th>191</th>\n",
       "      <td>This has to be what sunsfan was talking about ...</td>\n",
       "    </tr>\n",
       "  </tbody>\n",
       "</table>\n",
       "<p>192 rows × 1 columns</p>\n",
       "</div>"
      ],
      "text/plain": [
       "                                                  text\n",
       "0    Chill everyone, the Newspost says that 7.33 wi...\n",
       "1            At least CM (Crystal Maiden) not touched.\n",
       "2    I wanna work with this devs since the work two...\n",
       "3                                    7.32e hahahahahah\n",
       "4    # 7.32e Summary\\n\\n* New hero added to the gam...\n",
       "..                                                 ...\n",
       "187  4.2 GB for minor Lina nerf.  \\n\\n\\nI'm done wi...\n",
       "188  This is bad lol. Barely any changes other than...\n",
       "189  Hahahaha we overhyped the patch, it's literall...\n",
       "190                                            No 7.33\n",
       "191  This has to be what sunsfan was talking about ...\n",
       "\n",
       "[192 rows x 1 columns]"
      ]
     },
     "execution_count": 74,
     "metadata": {},
     "output_type": "execute_result"
    }
   ],
   "source": [
    "# check\n",
    "reddit"
   ]
  },
  {
   "cell_type": "code",
   "execution_count": 75,
   "metadata": {},
   "outputs": [],
   "source": [
    "# save text column to 1 variables\n",
    "reddit_text = reddit['text']"
   ]
  },
  {
   "cell_type": "code",
   "execution_count": 76,
   "metadata": {},
   "outputs": [
    {
     "data": {
      "text/plain": [
       "0      Chill everyone, the Newspost says that 7.33 wi...\n",
       "1              At least CM (Crystal Maiden) not touched.\n",
       "2      I wanna work with this devs since the work two...\n",
       "3                                      7.32e hahahahahah\n",
       "4      # 7.32e Summary\\n\\n* New hero added to the gam...\n",
       "                             ...                        \n",
       "187    4.2 GB for minor Lina nerf.  \\n\\n\\nI'm done wi...\n",
       "188    This is bad lol. Barely any changes other than...\n",
       "189    Hahahaha we overhyped the patch, it's literall...\n",
       "190                                              No 7.33\n",
       "191    This has to be what sunsfan was talking about ...\n",
       "Name: text, Length: 192, dtype: object"
      ]
     },
     "execution_count": 76,
     "metadata": {},
     "output_type": "execute_result"
    }
   ],
   "source": [
    "# check\n",
    "reddit_text"
   ]
  },
  {
   "cell_type": "code",
   "execution_count": 77,
   "metadata": {},
   "outputs": [],
   "source": [
    "# fit reddit comment to bag-of-words model\n",
    "reddit_transformed =  bagofwords.transform(reddit_text)"
   ]
  },
  {
   "cell_type": "code",
   "execution_count": 78,
   "metadata": {},
   "outputs": [
    {
     "data": {
      "text/plain": [
       "<192x1713 sparse matrix of type '<class 'numpy.int64'>'\n",
       "\twith 883 stored elements in Compressed Sparse Row format>"
      ]
     },
     "execution_count": 78,
     "metadata": {},
     "output_type": "execute_result"
    }
   ],
   "source": [
    "# check\n",
    "reddit_transformed"
   ]
  },
  {
   "cell_type": "code",
   "execution_count": 79,
   "metadata": {},
   "outputs": [],
   "source": [
    "# predict losgitic regression model\n",
    "reddit_log_pred = logreg.predict(reddit_transformed)"
   ]
  },
  {
   "cell_type": "code",
   "execution_count": 80,
   "metadata": {},
   "outputs": [
    {
     "data": {
      "text/plain": [
       "array([0, 1, 1, 1, 0, 1, 2, 2, 1, 0, 0, 2, 0, 1, 1, 1, 1, 2, 1, 1, 1, 1,\n",
       "       1, 1, 1, 1, 2, 2, 1, 1, 1, 1, 1, 0, 1, 2, 2, 1, 1, 1, 0, 1, 1, 1,\n",
       "       1, 0, 0, 2, 0, 2, 1, 1, 1, 1, 1, 1, 1, 1, 1, 1, 1, 1, 2, 0, 1, 2,\n",
       "       0, 1, 1, 1, 0, 0, 2, 0, 0, 1, 1, 0, 0, 1, 2, 0, 1, 1, 1, 1, 1, 1,\n",
       "       1, 1, 2, 1, 1, 1, 1, 1, 1, 0, 2, 1, 1, 0, 0, 1, 1, 2, 0, 1, 1, 1,\n",
       "       1, 0, 1, 0, 1, 1, 1, 0, 2, 1, 1, 1, 0, 1, 0, 2, 2, 1, 0, 1, 1, 0,\n",
       "       1, 1, 2, 2, 0, 1, 1, 2, 2, 0, 1, 1, 0, 2, 1, 2, 1, 1, 0, 1, 1, 2,\n",
       "       1, 1, 2, 0, 1, 1, 0, 1, 0, 1, 1, 1, 2, 1, 1, 1, 0, 0, 1, 0, 2, 2,\n",
       "       1, 1, 0, 1, 1, 1, 0, 1, 1, 2, 0, 1, 0, 2, 1, 2], dtype=int64)"
      ]
     },
     "execution_count": 80,
     "metadata": {},
     "output_type": "execute_result"
    }
   ],
   "source": [
    "# check\n",
    "reddit_log_pred"
   ]
  },
  {
   "cell_type": "code",
   "execution_count": 81,
   "metadata": {},
   "outputs": [],
   "source": [
    "# save new prediction to new column\n",
    "reddit['Logistic_Regression'] = reddit_log_pred"
   ]
  },
  {
   "cell_type": "code",
   "execution_count": 82,
   "metadata": {},
   "outputs": [
    {
     "data": {
      "text/html": [
       "<div>\n",
       "<style scoped>\n",
       "    .dataframe tbody tr th:only-of-type {\n",
       "        vertical-align: middle;\n",
       "    }\n",
       "\n",
       "    .dataframe tbody tr th {\n",
       "        vertical-align: top;\n",
       "    }\n",
       "\n",
       "    .dataframe thead th {\n",
       "        text-align: right;\n",
       "    }\n",
       "</style>\n",
       "<table border=\"1\" class=\"dataframe\">\n",
       "  <thead>\n",
       "    <tr style=\"text-align: right;\">\n",
       "      <th></th>\n",
       "      <th>text</th>\n",
       "      <th>Logistic_Regression</th>\n",
       "    </tr>\n",
       "  </thead>\n",
       "  <tbody>\n",
       "    <tr>\n",
       "      <th>0</th>\n",
       "      <td>Chill everyone, the Newspost says that 7.33 wi...</td>\n",
       "      <td>0</td>\n",
       "    </tr>\n",
       "    <tr>\n",
       "      <th>1</th>\n",
       "      <td>At least CM (Crystal Maiden) not touched.</td>\n",
       "      <td>1</td>\n",
       "    </tr>\n",
       "    <tr>\n",
       "      <th>2</th>\n",
       "      <td>I wanna work with this devs since the work two...</td>\n",
       "      <td>1</td>\n",
       "    </tr>\n",
       "    <tr>\n",
       "      <th>3</th>\n",
       "      <td>7.32e hahahahahah</td>\n",
       "      <td>1</td>\n",
       "    </tr>\n",
       "    <tr>\n",
       "      <th>4</th>\n",
       "      <td># 7.32e Summary\\n\\n* New hero added to the gam...</td>\n",
       "      <td>0</td>\n",
       "    </tr>\n",
       "    <tr>\n",
       "      <th>...</th>\n",
       "      <td>...</td>\n",
       "      <td>...</td>\n",
       "    </tr>\n",
       "    <tr>\n",
       "      <th>187</th>\n",
       "      <td>4.2 GB for minor Lina nerf.  \\n\\n\\nI'm done wi...</td>\n",
       "      <td>1</td>\n",
       "    </tr>\n",
       "    <tr>\n",
       "      <th>188</th>\n",
       "      <td>This is bad lol. Barely any changes other than...</td>\n",
       "      <td>0</td>\n",
       "    </tr>\n",
       "    <tr>\n",
       "      <th>189</th>\n",
       "      <td>Hahahaha we overhyped the patch, it's literall...</td>\n",
       "      <td>2</td>\n",
       "    </tr>\n",
       "    <tr>\n",
       "      <th>190</th>\n",
       "      <td>No 7.33</td>\n",
       "      <td>1</td>\n",
       "    </tr>\n",
       "    <tr>\n",
       "      <th>191</th>\n",
       "      <td>This has to be what sunsfan was talking about ...</td>\n",
       "      <td>2</td>\n",
       "    </tr>\n",
       "  </tbody>\n",
       "</table>\n",
       "<p>192 rows × 2 columns</p>\n",
       "</div>"
      ],
      "text/plain": [
       "                                                  text  Logistic_Regression\n",
       "0    Chill everyone, the Newspost says that 7.33 wi...                    0\n",
       "1            At least CM (Crystal Maiden) not touched.                    1\n",
       "2    I wanna work with this devs since the work two...                    1\n",
       "3                                    7.32e hahahahahah                    1\n",
       "4    # 7.32e Summary\\n\\n* New hero added to the gam...                    0\n",
       "..                                                 ...                  ...\n",
       "187  4.2 GB for minor Lina nerf.  \\n\\n\\nI'm done wi...                    1\n",
       "188  This is bad lol. Barely any changes other than...                    0\n",
       "189  Hahahaha we overhyped the patch, it's literall...                    2\n",
       "190                                            No 7.33                    1\n",
       "191  This has to be what sunsfan was talking about ...                    2\n",
       "\n",
       "[192 rows x 2 columns]"
      ]
     },
     "execution_count": 82,
     "metadata": {},
     "output_type": "execute_result"
    }
   ],
   "source": [
    "#check\n",
    "reddit"
   ]
  },
  {
   "attachments": {},
   "cell_type": "markdown",
   "metadata": {},
   "source": [
    "Predictions worked\n",
    "- Predict with other models"
   ]
  },
  {
   "cell_type": "code",
   "execution_count": 84,
   "metadata": {},
   "outputs": [
    {
     "name": "stdout",
     "output_type": "stream",
     "text": [
      "The TRAIN classification accuracy is:  0.7110056240648057\n",
      "The TEST classification accuracy is:  0.684234966333875\n"
     ]
    }
   ],
   "source": [
    "# SVM model\n",
    "from sklearn.svm import LinearSVC\n",
    "SVM_model = LinearSVC(C=0.11)\n",
    "SVM_model.fit(X_train_transformed, y_train)\n",
    "\n",
    "print(f\"The TRAIN classification accuracy is:  {SVM_model.score(X_train_transformed,y_train)}\")\n",
    "print(f\"The TEST classification accuracy is:  {SVM_model.score(X_test_transformed,y_test)}\")"
   ]
  },
  {
   "cell_type": "code",
   "execution_count": 85,
   "metadata": {},
   "outputs": [],
   "source": [
    "# predict on test data to compare with y_test\n",
    "SVM_pred = SVM_model.predict(reddit_transformed)"
   ]
  },
  {
   "cell_type": "code",
   "execution_count": 86,
   "metadata": {},
   "outputs": [],
   "source": [
    "# save predictions to new column on original dataframe\n",
    "reddit['SVM'] = SVM_pred"
   ]
  },
  {
   "cell_type": "code",
   "execution_count": 87,
   "metadata": {},
   "outputs": [
    {
     "data": {
      "text/html": [
       "<div>\n",
       "<style scoped>\n",
       "    .dataframe tbody tr th:only-of-type {\n",
       "        vertical-align: middle;\n",
       "    }\n",
       "\n",
       "    .dataframe tbody tr th {\n",
       "        vertical-align: top;\n",
       "    }\n",
       "\n",
       "    .dataframe thead th {\n",
       "        text-align: right;\n",
       "    }\n",
       "</style>\n",
       "<table border=\"1\" class=\"dataframe\">\n",
       "  <thead>\n",
       "    <tr style=\"text-align: right;\">\n",
       "      <th></th>\n",
       "      <th>text</th>\n",
       "      <th>Logistic_Regression</th>\n",
       "      <th>SVM</th>\n",
       "    </tr>\n",
       "  </thead>\n",
       "  <tbody>\n",
       "    <tr>\n",
       "      <th>0</th>\n",
       "      <td>Chill everyone, the Newspost says that 7.33 wi...</td>\n",
       "      <td>0</td>\n",
       "      <td>0</td>\n",
       "    </tr>\n",
       "    <tr>\n",
       "      <th>1</th>\n",
       "      <td>At least CM (Crystal Maiden) not touched.</td>\n",
       "      <td>1</td>\n",
       "      <td>1</td>\n",
       "    </tr>\n",
       "    <tr>\n",
       "      <th>2</th>\n",
       "      <td>I wanna work with this devs since the work two...</td>\n",
       "      <td>1</td>\n",
       "      <td>1</td>\n",
       "    </tr>\n",
       "    <tr>\n",
       "      <th>3</th>\n",
       "      <td>7.32e hahahahahah</td>\n",
       "      <td>1</td>\n",
       "      <td>1</td>\n",
       "    </tr>\n",
       "    <tr>\n",
       "      <th>4</th>\n",
       "      <td># 7.32e Summary\\n\\n* New hero added to the gam...</td>\n",
       "      <td>0</td>\n",
       "      <td>0</td>\n",
       "    </tr>\n",
       "    <tr>\n",
       "      <th>...</th>\n",
       "      <td>...</td>\n",
       "      <td>...</td>\n",
       "      <td>...</td>\n",
       "    </tr>\n",
       "    <tr>\n",
       "      <th>187</th>\n",
       "      <td>4.2 GB for minor Lina nerf.  \\n\\n\\nI'm done wi...</td>\n",
       "      <td>1</td>\n",
       "      <td>1</td>\n",
       "    </tr>\n",
       "    <tr>\n",
       "      <th>188</th>\n",
       "      <td>This is bad lol. Barely any changes other than...</td>\n",
       "      <td>0</td>\n",
       "      <td>0</td>\n",
       "    </tr>\n",
       "    <tr>\n",
       "      <th>189</th>\n",
       "      <td>Hahahaha we overhyped the patch, it's literall...</td>\n",
       "      <td>2</td>\n",
       "      <td>2</td>\n",
       "    </tr>\n",
       "    <tr>\n",
       "      <th>190</th>\n",
       "      <td>No 7.33</td>\n",
       "      <td>1</td>\n",
       "      <td>1</td>\n",
       "    </tr>\n",
       "    <tr>\n",
       "      <th>191</th>\n",
       "      <td>This has to be what sunsfan was talking about ...</td>\n",
       "      <td>2</td>\n",
       "      <td>2</td>\n",
       "    </tr>\n",
       "  </tbody>\n",
       "</table>\n",
       "<p>192 rows × 3 columns</p>\n",
       "</div>"
      ],
      "text/plain": [
       "                                                  text  Logistic_Regression  \\\n",
       "0    Chill everyone, the Newspost says that 7.33 wi...                    0   \n",
       "1            At least CM (Crystal Maiden) not touched.                    1   \n",
       "2    I wanna work with this devs since the work two...                    1   \n",
       "3                                    7.32e hahahahahah                    1   \n",
       "4    # 7.32e Summary\\n\\n* New hero added to the gam...                    0   \n",
       "..                                                 ...                  ...   \n",
       "187  4.2 GB for minor Lina nerf.  \\n\\n\\nI'm done wi...                    1   \n",
       "188  This is bad lol. Barely any changes other than...                    0   \n",
       "189  Hahahaha we overhyped the patch, it's literall...                    2   \n",
       "190                                            No 7.33                    1   \n",
       "191  This has to be what sunsfan was talking about ...                    2   \n",
       "\n",
       "     SVM  \n",
       "0      0  \n",
       "1      1  \n",
       "2      1  \n",
       "3      1  \n",
       "4      0  \n",
       "..   ...  \n",
       "187    1  \n",
       "188    0  \n",
       "189    2  \n",
       "190    1  \n",
       "191    2  \n",
       "\n",
       "[192 rows x 3 columns]"
      ]
     },
     "execution_count": 87,
     "metadata": {},
     "output_type": "execute_result"
    }
   ],
   "source": [
    "#check \n",
    "reddit"
   ]
  },
  {
   "cell_type": "code",
   "execution_count": 88,
   "metadata": {},
   "outputs": [
    {
     "name": "stdout",
     "output_type": "stream",
     "text": [
      "The TRAIN classification accuracy is:  0.6048449512409061\n",
      "The TEST classification accuracy is:  0.5898924231870598\n"
     ]
    }
   ],
   "source": [
    "# Decision tree\n",
    "from sklearn.tree import DecisionTreeClassifier\n",
    "#Fit to the training data\n",
    "DT_model = DecisionTreeClassifier(max_depth=20)\n",
    "DT_model.fit(X_train_transformed, y_train)\n",
    "\n",
    "print(f\"The TRAIN classification accuracy is:  {DT_model.score(X_train_transformed,y_train)}\")\n",
    "print(f\"The TEST classification accuracy is:  {DT_model.score(X_test_transformed,y_test)}\")"
   ]
  },
  {
   "cell_type": "code",
   "execution_count": 89,
   "metadata": {},
   "outputs": [],
   "source": [
    "# predict on test data to compare with y_test\n",
    "DT_pred = DT_model.predict(reddit_transformed)"
   ]
  },
  {
   "cell_type": "code",
   "execution_count": 90,
   "metadata": {},
   "outputs": [],
   "source": [
    "# save predicted data to original dataframe\n",
    "reddit['Decision_Tree'] = DT_pred"
   ]
  },
  {
   "cell_type": "code",
   "execution_count": 91,
   "metadata": {},
   "outputs": [
    {
     "data": {
      "text/html": [
       "<div>\n",
       "<style scoped>\n",
       "    .dataframe tbody tr th:only-of-type {\n",
       "        vertical-align: middle;\n",
       "    }\n",
       "\n",
       "    .dataframe tbody tr th {\n",
       "        vertical-align: top;\n",
       "    }\n",
       "\n",
       "    .dataframe thead th {\n",
       "        text-align: right;\n",
       "    }\n",
       "</style>\n",
       "<table border=\"1\" class=\"dataframe\">\n",
       "  <thead>\n",
       "    <tr style=\"text-align: right;\">\n",
       "      <th></th>\n",
       "      <th>text</th>\n",
       "      <th>Logistic_Regression</th>\n",
       "      <th>SVM</th>\n",
       "      <th>Decision_Tree</th>\n",
       "    </tr>\n",
       "  </thead>\n",
       "  <tbody>\n",
       "    <tr>\n",
       "      <th>0</th>\n",
       "      <td>Chill everyone, the Newspost says that 7.33 wi...</td>\n",
       "      <td>0</td>\n",
       "      <td>0</td>\n",
       "      <td>1</td>\n",
       "    </tr>\n",
       "    <tr>\n",
       "      <th>1</th>\n",
       "      <td>At least CM (Crystal Maiden) not touched.</td>\n",
       "      <td>1</td>\n",
       "      <td>1</td>\n",
       "      <td>1</td>\n",
       "    </tr>\n",
       "    <tr>\n",
       "      <th>2</th>\n",
       "      <td>I wanna work with this devs since the work two...</td>\n",
       "      <td>1</td>\n",
       "      <td>1</td>\n",
       "      <td>1</td>\n",
       "    </tr>\n",
       "    <tr>\n",
       "      <th>3</th>\n",
       "      <td>7.32e hahahahahah</td>\n",
       "      <td>1</td>\n",
       "      <td>1</td>\n",
       "      <td>1</td>\n",
       "    </tr>\n",
       "    <tr>\n",
       "      <th>4</th>\n",
       "      <td># 7.32e Summary\\n\\n* New hero added to the gam...</td>\n",
       "      <td>0</td>\n",
       "      <td>0</td>\n",
       "      <td>1</td>\n",
       "    </tr>\n",
       "    <tr>\n",
       "      <th>...</th>\n",
       "      <td>...</td>\n",
       "      <td>...</td>\n",
       "      <td>...</td>\n",
       "      <td>...</td>\n",
       "    </tr>\n",
       "    <tr>\n",
       "      <th>187</th>\n",
       "      <td>4.2 GB for minor Lina nerf.  \\n\\n\\nI'm done wi...</td>\n",
       "      <td>1</td>\n",
       "      <td>1</td>\n",
       "      <td>1</td>\n",
       "    </tr>\n",
       "    <tr>\n",
       "      <th>188</th>\n",
       "      <td>This is bad lol. Barely any changes other than...</td>\n",
       "      <td>0</td>\n",
       "      <td>0</td>\n",
       "      <td>0</td>\n",
       "    </tr>\n",
       "    <tr>\n",
       "      <th>189</th>\n",
       "      <td>Hahahaha we overhyped the patch, it's literall...</td>\n",
       "      <td>2</td>\n",
       "      <td>2</td>\n",
       "      <td>2</td>\n",
       "    </tr>\n",
       "    <tr>\n",
       "      <th>190</th>\n",
       "      <td>No 7.33</td>\n",
       "      <td>1</td>\n",
       "      <td>1</td>\n",
       "      <td>1</td>\n",
       "    </tr>\n",
       "    <tr>\n",
       "      <th>191</th>\n",
       "      <td>This has to be what sunsfan was talking about ...</td>\n",
       "      <td>2</td>\n",
       "      <td>2</td>\n",
       "      <td>1</td>\n",
       "    </tr>\n",
       "  </tbody>\n",
       "</table>\n",
       "<p>192 rows × 4 columns</p>\n",
       "</div>"
      ],
      "text/plain": [
       "                                                  text  Logistic_Regression  \\\n",
       "0    Chill everyone, the Newspost says that 7.33 wi...                    0   \n",
       "1            At least CM (Crystal Maiden) not touched.                    1   \n",
       "2    I wanna work with this devs since the work two...                    1   \n",
       "3                                    7.32e hahahahahah                    1   \n",
       "4    # 7.32e Summary\\n\\n* New hero added to the gam...                    0   \n",
       "..                                                 ...                  ...   \n",
       "187  4.2 GB for minor Lina nerf.  \\n\\n\\nI'm done wi...                    1   \n",
       "188  This is bad lol. Barely any changes other than...                    0   \n",
       "189  Hahahaha we overhyped the patch, it's literall...                    2   \n",
       "190                                            No 7.33                    1   \n",
       "191  This has to be what sunsfan was talking about ...                    2   \n",
       "\n",
       "     SVM  Decision_Tree  \n",
       "0      0              1  \n",
       "1      1              1  \n",
       "2      1              1  \n",
       "3      1              1  \n",
       "4      0              1  \n",
       "..   ...            ...  \n",
       "187    1              1  \n",
       "188    0              0  \n",
       "189    2              2  \n",
       "190    1              1  \n",
       "191    2              1  \n",
       "\n",
       "[192 rows x 4 columns]"
      ]
     },
     "execution_count": 91,
     "metadata": {},
     "output_type": "execute_result"
    }
   ],
   "source": [
    "# check\n",
    "reddit"
   ]
  },
  {
   "cell_type": "code",
   "execution_count": 92,
   "metadata": {},
   "outputs": [
    {
     "name": "stderr",
     "output_type": "stream",
     "text": [
      "c:\\Users\\trann\\anaconda3\\lib\\site-packages\\sklearn\\neighbors\\_classification.py:228: FutureWarning: Unlike other reduction functions (e.g. `skew`, `kurtosis`), the default behavior of `mode` typically preserves the axis it acts along. In SciPy 1.11.0, this behavior will change: the default value of `keepdims` will become False, the `axis` over which the statistic is taken will be eliminated, and the value None will no longer be accepted. Set `keepdims` to True or False to avoid this warning.\n",
      "  mode, _ = stats.mode(_y[neigh_ind, k], axis=1)\n"
     ]
    },
    {
     "name": "stdout",
     "output_type": "stream",
     "text": [
      "The TRAIN classification accuracy is:  0.6934626696248903\n",
      "The TEST classification accuracy is:  0.5968578283414596\n"
     ]
    },
    {
     "name": "stderr",
     "output_type": "stream",
     "text": [
      "c:\\Users\\trann\\anaconda3\\lib\\site-packages\\sklearn\\neighbors\\_classification.py:228: FutureWarning: Unlike other reduction functions (e.g. `skew`, `kurtosis`), the default behavior of `mode` typically preserves the axis it acts along. In SciPy 1.11.0, this behavior will change: the default value of `keepdims` will become False, the `axis` over which the statistic is taken will be eliminated, and the value None will no longer be accepted. Set `keepdims` to True or False to avoid this warning.\n",
      "  mode, _ = stats.mode(_y[neigh_ind, k], axis=1)\n"
     ]
    }
   ],
   "source": [
    "# lastly, do KNN predictions\n",
    "from sklearn.neighbors import KNeighborsClassifier\n",
    "\n",
    "# Instantiate the model & fit it to our data\n",
    "KNN_model = KNeighborsClassifier(n_neighbors=5)\n",
    "KNN_model.fit(X_train_transformed, y_train)\n",
    "\n",
    "print(f\"The TRAIN classification accuracy is:  {KNN_model.score(X_train_transformed,y_train)}\")\n",
    "print(f\"The TEST classification accuracy is:  {KNN_model.score(X_test_transformed,y_test)}\")"
   ]
  },
  {
   "cell_type": "code",
   "execution_count": 93,
   "metadata": {},
   "outputs": [
    {
     "name": "stderr",
     "output_type": "stream",
     "text": [
      "c:\\Users\\trann\\anaconda3\\lib\\site-packages\\sklearn\\neighbors\\_classification.py:228: FutureWarning: Unlike other reduction functions (e.g. `skew`, `kurtosis`), the default behavior of `mode` typically preserves the axis it acts along. In SciPy 1.11.0, this behavior will change: the default value of `keepdims` will become False, the `axis` over which the statistic is taken will be eliminated, and the value None will no longer be accepted. Set `keepdims` to True or False to avoid this warning.\n",
      "  mode, _ = stats.mode(_y[neigh_ind, k], axis=1)\n"
     ]
    }
   ],
   "source": [
    "# predict on test data to compare with y_test\n",
    "KNN_pred = KNN_model.predict(reddit_transformed)"
   ]
  },
  {
   "cell_type": "code",
   "execution_count": 94,
   "metadata": {},
   "outputs": [],
   "source": [
    "# save predictions to original dataframe\n",
    "reddit['KNN'] = KNN_pred"
   ]
  },
  {
   "cell_type": "code",
   "execution_count": 95,
   "metadata": {},
   "outputs": [
    {
     "data": {
      "text/html": [
       "<div>\n",
       "<style scoped>\n",
       "    .dataframe tbody tr th:only-of-type {\n",
       "        vertical-align: middle;\n",
       "    }\n",
       "\n",
       "    .dataframe tbody tr th {\n",
       "        vertical-align: top;\n",
       "    }\n",
       "\n",
       "    .dataframe thead th {\n",
       "        text-align: right;\n",
       "    }\n",
       "</style>\n",
       "<table border=\"1\" class=\"dataframe\">\n",
       "  <thead>\n",
       "    <tr style=\"text-align: right;\">\n",
       "      <th></th>\n",
       "      <th>text</th>\n",
       "      <th>Logistic_Regression</th>\n",
       "      <th>SVM</th>\n",
       "      <th>Decision_Tree</th>\n",
       "      <th>KNN</th>\n",
       "    </tr>\n",
       "  </thead>\n",
       "  <tbody>\n",
       "    <tr>\n",
       "      <th>0</th>\n",
       "      <td>Chill everyone, the Newspost says that 7.33 wi...</td>\n",
       "      <td>0</td>\n",
       "      <td>0</td>\n",
       "      <td>1</td>\n",
       "      <td>1</td>\n",
       "    </tr>\n",
       "    <tr>\n",
       "      <th>1</th>\n",
       "      <td>At least CM (Crystal Maiden) not touched.</td>\n",
       "      <td>1</td>\n",
       "      <td>1</td>\n",
       "      <td>1</td>\n",
       "      <td>1</td>\n",
       "    </tr>\n",
       "    <tr>\n",
       "      <th>2</th>\n",
       "      <td>I wanna work with this devs since the work two...</td>\n",
       "      <td>1</td>\n",
       "      <td>1</td>\n",
       "      <td>1</td>\n",
       "      <td>0</td>\n",
       "    </tr>\n",
       "    <tr>\n",
       "      <th>3</th>\n",
       "      <td>7.32e hahahahahah</td>\n",
       "      <td>1</td>\n",
       "      <td>1</td>\n",
       "      <td>1</td>\n",
       "      <td>1</td>\n",
       "    </tr>\n",
       "    <tr>\n",
       "      <th>4</th>\n",
       "      <td># 7.32e Summary\\n\\n* New hero added to the gam...</td>\n",
       "      <td>0</td>\n",
       "      <td>0</td>\n",
       "      <td>1</td>\n",
       "      <td>1</td>\n",
       "    </tr>\n",
       "    <tr>\n",
       "      <th>...</th>\n",
       "      <td>...</td>\n",
       "      <td>...</td>\n",
       "      <td>...</td>\n",
       "      <td>...</td>\n",
       "      <td>...</td>\n",
       "    </tr>\n",
       "    <tr>\n",
       "      <th>187</th>\n",
       "      <td>4.2 GB for minor Lina nerf.  \\n\\n\\nI'm done wi...</td>\n",
       "      <td>1</td>\n",
       "      <td>1</td>\n",
       "      <td>1</td>\n",
       "      <td>1</td>\n",
       "    </tr>\n",
       "    <tr>\n",
       "      <th>188</th>\n",
       "      <td>This is bad lol. Barely any changes other than...</td>\n",
       "      <td>0</td>\n",
       "      <td>0</td>\n",
       "      <td>0</td>\n",
       "      <td>0</td>\n",
       "    </tr>\n",
       "    <tr>\n",
       "      <th>189</th>\n",
       "      <td>Hahahaha we overhyped the patch, it's literall...</td>\n",
       "      <td>2</td>\n",
       "      <td>2</td>\n",
       "      <td>2</td>\n",
       "      <td>2</td>\n",
       "    </tr>\n",
       "    <tr>\n",
       "      <th>190</th>\n",
       "      <td>No 7.33</td>\n",
       "      <td>1</td>\n",
       "      <td>1</td>\n",
       "      <td>1</td>\n",
       "      <td>1</td>\n",
       "    </tr>\n",
       "    <tr>\n",
       "      <th>191</th>\n",
       "      <td>This has to be what sunsfan was talking about ...</td>\n",
       "      <td>2</td>\n",
       "      <td>2</td>\n",
       "      <td>1</td>\n",
       "      <td>2</td>\n",
       "    </tr>\n",
       "  </tbody>\n",
       "</table>\n",
       "<p>192 rows × 5 columns</p>\n",
       "</div>"
      ],
      "text/plain": [
       "                                                  text  Logistic_Regression  \\\n",
       "0    Chill everyone, the Newspost says that 7.33 wi...                    0   \n",
       "1            At least CM (Crystal Maiden) not touched.                    1   \n",
       "2    I wanna work with this devs since the work two...                    1   \n",
       "3                                    7.32e hahahahahah                    1   \n",
       "4    # 7.32e Summary\\n\\n* New hero added to the gam...                    0   \n",
       "..                                                 ...                  ...   \n",
       "187  4.2 GB for minor Lina nerf.  \\n\\n\\nI'm done wi...                    1   \n",
       "188  This is bad lol. Barely any changes other than...                    0   \n",
       "189  Hahahaha we overhyped the patch, it's literall...                    2   \n",
       "190                                            No 7.33                    1   \n",
       "191  This has to be what sunsfan was talking about ...                    2   \n",
       "\n",
       "     SVM  Decision_Tree  KNN  \n",
       "0      0              1    1  \n",
       "1      1              1    1  \n",
       "2      1              1    0  \n",
       "3      1              1    1  \n",
       "4      0              1    1  \n",
       "..   ...            ...  ...  \n",
       "187    1              1    1  \n",
       "188    0              0    0  \n",
       "189    2              2    2  \n",
       "190    1              1    1  \n",
       "191    2              1    2  \n",
       "\n",
       "[192 rows x 5 columns]"
      ]
     },
     "execution_count": 95,
     "metadata": {},
     "output_type": "execute_result"
    }
   ],
   "source": [
    "# check\n",
    "reddit"
   ]
  },
  {
   "attachments": {},
   "cell_type": "markdown",
   "metadata": {},
   "source": [
    "Prediction columns are done\n",
    "\n",
    "Get components for spacial representation of comments"
   ]
  },
  {
   "cell_type": "code",
   "execution_count": 129,
   "metadata": {},
   "outputs": [],
   "source": [
    "# truncatedSVD for sparse matrix dimentionality reduction\n",
    "from sklearn.decomposition import TruncatedSVD\n",
    "\n",
    "svd = TruncatedSVD(n_components=3)\n",
    "\n",
    "svd.fit(X_train_transformed)\n",
    "\n",
    "reddit_pca = svd.transform(reddit_transformed)"
   ]
  },
  {
   "cell_type": "code",
   "execution_count": 131,
   "metadata": {},
   "outputs": [
    {
     "data": {
      "image/png": "[encoded data removed]",
      "text/plain": [
       "<Figure size 800x800 with 1 Axes>"
      ]
     },
     "metadata": {},
     "output_type": "display_data"
    }
   ],
   "source": [
    "# Plotting the PCA-transformed data (only the first two dimensions)\n",
    "plt.figure(figsize=(8, 8))\n",
    "plt.scatter(reddit_pca[:,0],reddit_pca[:,1])\n",
    "\n",
    "plt.xlabel(\"Principal Component 1\")\n",
    "plt.ylabel(\"Principal Component 2\")\n",
    "\n",
    "plt.show()"
   ]
  },
  {
   "cell_type": "code",
   "execution_count": 132,
   "metadata": {},
   "outputs": [
    {
     "data": {
      "text/plain": [
       "(192, 3)"
      ]
     },
     "execution_count": 132,
     "metadata": {},
     "output_type": "execute_result"
    }
   ],
   "source": [
    "reddit_pca.shape"
   ]
  },
  {
   "cell_type": "code",
   "execution_count": 133,
   "metadata": {},
   "outputs": [],
   "source": [
    "# save PCAs to dataframe\n",
    "reddit_pca_df = pd.DataFrame(reddit_pca)"
   ]
  },
  {
   "cell_type": "code",
   "execution_count": 134,
   "metadata": {},
   "outputs": [
    {
     "data": {
      "text/html": [
       "<div>\n",
       "<style scoped>\n",
       "    .dataframe tbody tr th:only-of-type {\n",
       "        vertical-align: middle;\n",
       "    }\n",
       "\n",
       "    .dataframe tbody tr th {\n",
       "        vertical-align: top;\n",
       "    }\n",
       "\n",
       "    .dataframe thead th {\n",
       "        text-align: right;\n",
       "    }\n",
       "</style>\n",
       "<table border=\"1\" class=\"dataframe\">\n",
       "  <thead>\n",
       "    <tr style=\"text-align: right;\">\n",
       "      <th></th>\n",
       "      <th>0</th>\n",
       "      <th>1</th>\n",
       "      <th>2</th>\n",
       "    </tr>\n",
       "  </thead>\n",
       "  <tbody>\n",
       "    <tr>\n",
       "      <th>0</th>\n",
       "      <td>0.086355</td>\n",
       "      <td>-0.005364</td>\n",
       "      <td>0.057312</td>\n",
       "    </tr>\n",
       "    <tr>\n",
       "      <th>1</th>\n",
       "      <td>0.000000</td>\n",
       "      <td>0.000000</td>\n",
       "      <td>0.000000</td>\n",
       "    </tr>\n",
       "    <tr>\n",
       "      <th>2</th>\n",
       "      <td>0.093022</td>\n",
       "      <td>-0.012607</td>\n",
       "      <td>0.075381</td>\n",
       "    </tr>\n",
       "    <tr>\n",
       "      <th>3</th>\n",
       "      <td>0.000000</td>\n",
       "      <td>0.000000</td>\n",
       "      <td>0.000000</td>\n",
       "    </tr>\n",
       "    <tr>\n",
       "      <th>4</th>\n",
       "      <td>0.070266</td>\n",
       "      <td>0.003741</td>\n",
       "      <td>0.049303</td>\n",
       "    </tr>\n",
       "    <tr>\n",
       "      <th>...</th>\n",
       "      <td>...</td>\n",
       "      <td>...</td>\n",
       "      <td>...</td>\n",
       "    </tr>\n",
       "    <tr>\n",
       "      <th>187</th>\n",
       "      <td>0.000000</td>\n",
       "      <td>0.000000</td>\n",
       "      <td>0.000000</td>\n",
       "    </tr>\n",
       "    <tr>\n",
       "      <th>188</th>\n",
       "      <td>0.465226</td>\n",
       "      <td>-0.088433</td>\n",
       "      <td>0.638233</td>\n",
       "    </tr>\n",
       "    <tr>\n",
       "      <th>189</th>\n",
       "      <td>0.029558</td>\n",
       "      <td>-0.004867</td>\n",
       "      <td>0.014223</td>\n",
       "    </tr>\n",
       "    <tr>\n",
       "      <th>190</th>\n",
       "      <td>0.000000</td>\n",
       "      <td>0.000000</td>\n",
       "      <td>0.000000</td>\n",
       "    </tr>\n",
       "    <tr>\n",
       "      <th>191</th>\n",
       "      <td>0.024531</td>\n",
       "      <td>-0.003323</td>\n",
       "      <td>0.019226</td>\n",
       "    </tr>\n",
       "  </tbody>\n",
       "</table>\n",
       "<p>192 rows × 3 columns</p>\n",
       "</div>"
      ],
      "text/plain": [
       "            0         1         2\n",
       "0    0.086355 -0.005364  0.057312\n",
       "1    0.000000  0.000000  0.000000\n",
       "2    0.093022 -0.012607  0.075381\n",
       "3    0.000000  0.000000  0.000000\n",
       "4    0.070266  0.003741  0.049303\n",
       "..        ...       ...       ...\n",
       "187  0.000000  0.000000  0.000000\n",
       "188  0.465226 -0.088433  0.638233\n",
       "189  0.029558 -0.004867  0.014223\n",
       "190  0.000000  0.000000  0.000000\n",
       "191  0.024531 -0.003323  0.019226\n",
       "\n",
       "[192 rows x 3 columns]"
      ]
     },
     "execution_count": 134,
     "metadata": {},
     "output_type": "execute_result"
    }
   ],
   "source": [
    "# check\n",
    "reddit_pca_df"
   ]
  },
  {
   "cell_type": "code",
   "execution_count": 135,
   "metadata": {},
   "outputs": [
    {
     "data": {
      "text/plain": [
       "0     -0.005364\n",
       "1      0.000000\n",
       "2     -0.012607\n",
       "3      0.000000\n",
       "4      0.003741\n",
       "         ...   \n",
       "187    0.000000\n",
       "188   -0.088433\n",
       "189   -0.004867\n",
       "190    0.000000\n",
       "191   -0.003323\n",
       "Name: 1, Length: 192, dtype: float64"
      ]
     },
     "execution_count": 135,
     "metadata": {},
     "output_type": "execute_result"
    }
   ],
   "source": [
    "reddit_pca_df[1]"
   ]
  },
  {
   "cell_type": "code",
   "execution_count": 136,
   "metadata": {},
   "outputs": [],
   "source": [
    "# save PCA values to original dataframe\n",
    "reddit['PCA1'] = reddit_pca_df[0]\n",
    "reddit['PCA2'] = reddit_pca_df[1]\n",
    "reddit['PCA3'] = reddit_pca_df[2]"
   ]
  },
  {
   "cell_type": "code",
   "execution_count": 137,
   "metadata": {},
   "outputs": [
    {
     "data": {
      "text/html": [
       "<div>\n",
       "<style scoped>\n",
       "    .dataframe tbody tr th:only-of-type {\n",
       "        vertical-align: middle;\n",
       "    }\n",
       "\n",
       "    .dataframe tbody tr th {\n",
       "        vertical-align: top;\n",
       "    }\n",
       "\n",
       "    .dataframe thead th {\n",
       "        text-align: right;\n",
       "    }\n",
       "</style>\n",
       "<table border=\"1\" class=\"dataframe\">\n",
       "  <thead>\n",
       "    <tr style=\"text-align: right;\">\n",
       "      <th></th>\n",
       "      <th>text</th>\n",
       "      <th>Logistic_Regression</th>\n",
       "      <th>SVM</th>\n",
       "      <th>Decision_Tree</th>\n",
       "      <th>KNN</th>\n",
       "      <th>PCA1</th>\n",
       "      <th>PCA2</th>\n",
       "      <th>PCA3</th>\n",
       "    </tr>\n",
       "  </thead>\n",
       "  <tbody>\n",
       "    <tr>\n",
       "      <th>0</th>\n",
       "      <td>Chill everyone, the Newspost says that 7.33 wi...</td>\n",
       "      <td>0</td>\n",
       "      <td>0</td>\n",
       "      <td>1</td>\n",
       "      <td>1</td>\n",
       "      <td>0.086355</td>\n",
       "      <td>-0.005364</td>\n",
       "      <td>0.057312</td>\n",
       "    </tr>\n",
       "    <tr>\n",
       "      <th>1</th>\n",
       "      <td>At least CM (Crystal Maiden) not touched.</td>\n",
       "      <td>1</td>\n",
       "      <td>1</td>\n",
       "      <td>1</td>\n",
       "      <td>1</td>\n",
       "      <td>0.000000</td>\n",
       "      <td>0.000000</td>\n",
       "      <td>0.000000</td>\n",
       "    </tr>\n",
       "    <tr>\n",
       "      <th>2</th>\n",
       "      <td>I wanna work with this devs since the work two...</td>\n",
       "      <td>1</td>\n",
       "      <td>1</td>\n",
       "      <td>1</td>\n",
       "      <td>0</td>\n",
       "      <td>0.093022</td>\n",
       "      <td>-0.012607</td>\n",
       "      <td>0.075381</td>\n",
       "    </tr>\n",
       "    <tr>\n",
       "      <th>3</th>\n",
       "      <td>7.32e hahahahahah</td>\n",
       "      <td>1</td>\n",
       "      <td>1</td>\n",
       "      <td>1</td>\n",
       "      <td>1</td>\n",
       "      <td>0.000000</td>\n",
       "      <td>0.000000</td>\n",
       "      <td>0.000000</td>\n",
       "    </tr>\n",
       "    <tr>\n",
       "      <th>4</th>\n",
       "      <td># 7.32e Summary\\n\\n* New hero added to the gam...</td>\n",
       "      <td>0</td>\n",
       "      <td>0</td>\n",
       "      <td>1</td>\n",
       "      <td>1</td>\n",
       "      <td>0.070266</td>\n",
       "      <td>0.003741</td>\n",
       "      <td>0.049303</td>\n",
       "    </tr>\n",
       "    <tr>\n",
       "      <th>...</th>\n",
       "      <td>...</td>\n",
       "      <td>...</td>\n",
       "      <td>...</td>\n",
       "      <td>...</td>\n",
       "      <td>...</td>\n",
       "      <td>...</td>\n",
       "      <td>...</td>\n",
       "      <td>...</td>\n",
       "    </tr>\n",
       "    <tr>\n",
       "      <th>187</th>\n",
       "      <td>4.2 GB for minor Lina nerf.  \\n\\n\\nI'm done wi...</td>\n",
       "      <td>1</td>\n",
       "      <td>1</td>\n",
       "      <td>1</td>\n",
       "      <td>1</td>\n",
       "      <td>0.000000</td>\n",
       "      <td>0.000000</td>\n",
       "      <td>0.000000</td>\n",
       "    </tr>\n",
       "    <tr>\n",
       "      <th>188</th>\n",
       "      <td>This is bad lol. Barely any changes other than...</td>\n",
       "      <td>0</td>\n",
       "      <td>0</td>\n",
       "      <td>0</td>\n",
       "      <td>0</td>\n",
       "      <td>0.465226</td>\n",
       "      <td>-0.088433</td>\n",
       "      <td>0.638233</td>\n",
       "    </tr>\n",
       "    <tr>\n",
       "      <th>189</th>\n",
       "      <td>Hahahaha we overhyped the patch, it's literall...</td>\n",
       "      <td>2</td>\n",
       "      <td>2</td>\n",
       "      <td>2</td>\n",
       "      <td>2</td>\n",
       "      <td>0.029558</td>\n",
       "      <td>-0.004867</td>\n",
       "      <td>0.014223</td>\n",
       "    </tr>\n",
       "    <tr>\n",
       "      <th>190</th>\n",
       "      <td>No 7.33</td>\n",
       "      <td>1</td>\n",
       "      <td>1</td>\n",
       "      <td>1</td>\n",
       "      <td>1</td>\n",
       "      <td>0.000000</td>\n",
       "      <td>0.000000</td>\n",
       "      <td>0.000000</td>\n",
       "    </tr>\n",
       "    <tr>\n",
       "      <th>191</th>\n",
       "      <td>This has to be what sunsfan was talking about ...</td>\n",
       "      <td>2</td>\n",
       "      <td>2</td>\n",
       "      <td>1</td>\n",
       "      <td>2</td>\n",
       "      <td>0.024531</td>\n",
       "      <td>-0.003323</td>\n",
       "      <td>0.019226</td>\n",
       "    </tr>\n",
       "  </tbody>\n",
       "</table>\n",
       "<p>192 rows × 8 columns</p>\n",
       "</div>"
      ],
      "text/plain": [
       "                                                  text  Logistic_Regression  \\\n",
       "0    Chill everyone, the Newspost says that 7.33 wi...                    0   \n",
       "1            At least CM (Crystal Maiden) not touched.                    1   \n",
       "2    I wanna work with this devs since the work two...                    1   \n",
       "3                                    7.32e hahahahahah                    1   \n",
       "4    # 7.32e Summary\\n\\n* New hero added to the gam...                    0   \n",
       "..                                                 ...                  ...   \n",
       "187  4.2 GB for minor Lina nerf.  \\n\\n\\nI'm done wi...                    1   \n",
       "188  This is bad lol. Barely any changes other than...                    0   \n",
       "189  Hahahaha we overhyped the patch, it's literall...                    2   \n",
       "190                                            No 7.33                    1   \n",
       "191  This has to be what sunsfan was talking about ...                    2   \n",
       "\n",
       "     SVM  Decision_Tree  KNN      PCA1      PCA2      PCA3  \n",
       "0      0              1    1  0.086355 -0.005364  0.057312  \n",
       "1      1              1    1  0.000000  0.000000  0.000000  \n",
       "2      1              1    0  0.093022 -0.012607  0.075381  \n",
       "3      1              1    1  0.000000  0.000000  0.000000  \n",
       "4      0              1    1  0.070266  0.003741  0.049303  \n",
       "..   ...            ...  ...       ...       ...       ...  \n",
       "187    1              1    1  0.000000  0.000000  0.000000  \n",
       "188    0              0    0  0.465226 -0.088433  0.638233  \n",
       "189    2              2    2  0.029558 -0.004867  0.014223  \n",
       "190    1              1    1  0.000000  0.000000  0.000000  \n",
       "191    2              1    2  0.024531 -0.003323  0.019226  \n",
       "\n",
       "[192 rows x 8 columns]"
      ]
     },
     "execution_count": 137,
     "metadata": {},
     "output_type": "execute_result"
    }
   ],
   "source": [
    "# check\n",
    "reddit"
   ]
  },
  {
   "attachments": {},
   "cell_type": "markdown",
   "metadata": {},
   "source": [
    "Have 3 columns of components along with model predictions for dashboard\n",
    "- save CSV and make dashboard with R-SHINY"
   ]
  },
  {
   "cell_type": "code",
   "execution_count": 138,
   "metadata": {},
   "outputs": [],
   "source": [
    "reddit.to_csv('dota_comments.csv', index = False)"
   ]
  },
  {
   "attachments": {},
   "cell_type": "markdown",
   "metadata": {},
   "source": [
    "# Next Week\n",
    "\n",
    "GridSearch to optimize other models (DT, SVM, KNN)\n",
    "- Google BERT model with word embeddings?\n",
    "- Project checklist (report/powerpoint)"
   ]
  },
  {
   "cell_type": "markdown",
   "metadata": {},
   "source": []
  }
 ],
 "metadata": {
  "kernelspec": {
   "display_name": "base",
   "language": "python",
   "name": "python3"
  },
  "language_info": {
   "codemirror_mode": {
    "name": "ipython",
    "version": 3
   },
   "file_extension": ".py",
   "mimetype": "text/x-python",
   "name": "python",
   "nbconvert_exporter": "python",
   "pygments_lexer": "ipython3",
   "version": "3.9.13"
  },
  "orig_nbformat": 4
 },
 "nbformat": 4,
 "nbformat_minor": 2
}
