{
 "cells": [
  {
   "attachments": {},
   "cell_type": "markdown",
   "metadata": {},
   "source": [
    "# Week 4 - Grid Search Optimization\n",
    "- Optimize LogReg, SVM, DT, KNN Models with GridSearch"
   ]
  },
  {
   "cell_type": "code",
   "execution_count": 1,
   "metadata": {},
   "outputs": [],
   "source": [
    "# import libraries\n",
    "import numpy as np\n",
    "import pandas as pd\n",
    "import matplotlib.pyplot as plt"
   ]
  },
  {
   "cell_type": "code",
   "execution_count": 2,
   "metadata": {},
   "outputs": [],
   "source": [
    "# read in data, use sentiment simple\n",
    "# dataframe with just text and sentiment\n",
    "GoEmo_df = pd.read_csv('GoEmotions_Sentiment_simple.csv')\n",
    "# remove ambiguous rows\n",
    "GoEmo_df = GoEmo_df[GoEmo_df['Sentiment'] < 3]"
   ]
  },
  {
   "cell_type": "code",
   "execution_count": 3,
   "metadata": {},
   "outputs": [
    {
     "data": {
      "text/html": [
       "<div>\n",
       "<style scoped>\n",
       "    .dataframe tbody tr th:only-of-type {\n",
       "        vertical-align: middle;\n",
       "    }\n",
       "\n",
       "    .dataframe tbody tr th {\n",
       "        vertical-align: top;\n",
       "    }\n",
       "\n",
       "    .dataframe thead th {\n",
       "        text-align: right;\n",
       "    }\n",
       "</style>\n",
       "<table border=\"1\" class=\"dataframe\">\n",
       "  <thead>\n",
       "    <tr style=\"text-align: right;\">\n",
       "      <th></th>\n",
       "      <th>text</th>\n",
       "      <th>Sentiment</th>\n",
       "    </tr>\n",
       "  </thead>\n",
       "  <tbody>\n",
       "    <tr>\n",
       "      <th>0</th>\n",
       "      <td>Fast as [NAME] will carry me. Seriously uptown...</td>\n",
       "      <td>0</td>\n",
       "    </tr>\n",
       "    <tr>\n",
       "      <th>1</th>\n",
       "      <td>You blew it. They played you like a fiddle.</td>\n",
       "      <td>1</td>\n",
       "    </tr>\n",
       "    <tr>\n",
       "      <th>2</th>\n",
       "      <td>TL;DR No more Superbowls for [NAME]. Get ready...</td>\n",
       "      <td>2</td>\n",
       "    </tr>\n",
       "    <tr>\n",
       "      <th>4</th>\n",
       "      <td>Emotes have a ridiculous amount of effort put ...</td>\n",
       "      <td>1</td>\n",
       "    </tr>\n",
       "    <tr>\n",
       "      <th>5</th>\n",
       "      <td>Just life.. I feel like i'm just a parasite th...</td>\n",
       "      <td>2</td>\n",
       "    </tr>\n",
       "  </tbody>\n",
       "</table>\n",
       "</div>"
      ],
      "text/plain": [
       "                                                text  Sentiment\n",
       "0  Fast as [NAME] will carry me. Seriously uptown...          0\n",
       "1        You blew it. They played you like a fiddle.          1\n",
       "2  TL;DR No more Superbowls for [NAME]. Get ready...          2\n",
       "4  Emotes have a ridiculous amount of effort put ...          1\n",
       "5  Just life.. I feel like i'm just a parasite th...          2"
      ]
     },
     "execution_count": 3,
     "metadata": {},
     "output_type": "execute_result"
    }
   ],
   "source": [
    "GoEmo_df.head()"
   ]
  },
  {
   "cell_type": "code",
   "execution_count": 4,
   "metadata": {},
   "outputs": [],
   "source": [
    "# store simplified data in X and y\n",
    "X = GoEmo_df['text']\n",
    "y = GoEmo_df['Sentiment']\n",
    "\n",
    "# splitting our data into train and test sets\n",
    "# stratify on sentiment\n",
    "from sklearn.model_selection import train_test_split\n",
    "X_train, X_test, y_train, y_test = train_test_split(X, y, test_size=0.25, random_state=42, stratify=y)"
   ]
  },
  {
   "cell_type": "code",
   "execution_count": 5,
   "metadata": {},
   "outputs": [
    {
     "data": {
      "text/plain": [
       "<38762x1713 sparse matrix of type '<class 'numpy.int64'>'\n",
       "\twith 154603 stored elements in Compressed Sparse Row format>"
      ]
     },
     "execution_count": 5,
     "metadata": {},
     "output_type": "execute_result"
    }
   ],
   "source": [
    "from sklearn.feature_extraction.text import CountVectorizer\n",
    "\n",
    "# 1. Instantiate\n",
    "bagofwords = CountVectorizer(stop_words=\"english\",\n",
    "                             min_df= 20)\n",
    "# 2. Fit\n",
    "bagofwords.fit(X_train)\n",
    "\n",
    "# 3. Transform\n",
    "X_train_transformed = bagofwords.transform(X_train)\n",
    "X_test_transformed = bagofwords.transform(X_test) \n",
    "X_train_transformed"
   ]
  },
  {
   "attachments": {},
   "cell_type": "markdown",
   "metadata": {},
   "source": [
    "# Logistic Regression Grid Search"
   ]
  },
  {
   "cell_type": "code",
   "execution_count": 6,
   "metadata": {},
   "outputs": [],
   "source": [
    "# pipeline for logistic regression test\n",
    "from sklearn.pipeline import Pipeline\n",
    "from sklearn.linear_model import LogisticRegression\n",
    "from sklearn.model_selection import GridSearchCV\n",
    "# Ignore futurewarnings\n",
    "import warnings\n",
    "warnings.filterwarnings('ignore')"
   ]
  },
  {
   "cell_type": "code",
   "execution_count": 13,
   "metadata": {},
   "outputs": [],
   "source": [
    "# Create placeholders for all three steps\n",
    "estimators = [('model', LogisticRegression())]\n",
    "\n",
    "my_pipe = Pipeline(estimators)"
   ]
  },
  {
   "cell_type": "code",
   "execution_count": 14,
   "metadata": {},
   "outputs": [],
   "source": [
    "param_grid = [{\n",
    "        'model': [LogisticRegression(solver='saga')], \n",
    "        'model__C': [0.001, 0.01, 0.1, 1, 10, 100],\n",
    "        'model__penalty': ['l1', 'l2']\n",
    "    }]"
   ]
  },
  {
   "cell_type": "code",
   "execution_count": null,
   "metadata": {},
   "outputs": [],
   "source": [
    "grid = GridSearchCV(my_pipe, param_grid, cv=5)\n",
    "\n",
    "fittedgrid = grid.fit(X_train_transformed, y_train)"
   ]
  },
  {
   "cell_type": "code",
   "execution_count": 16,
   "metadata": {},
   "outputs": [
    {
     "data": {
      "text/plain": [
       "{'model': LogisticRegression(C=1, penalty='l1', solver='saga'),\n",
       " 'model__C': 1,\n",
       " 'model__penalty': 'l1'}"
      ]
     },
     "execution_count": 16,
     "metadata": {},
     "output_type": "execute_result"
    }
   ],
   "source": [
    "fittedgrid.best_params_"
   ]
  },
  {
   "cell_type": "code",
   "execution_count": 7,
   "metadata": {},
   "outputs": [
    {
     "name": "stdout",
     "output_type": "stream",
     "text": [
      "Train score: 0.7134564779939115\n",
      "Test score: 0.6837706059902484\n"
     ]
    }
   ],
   "source": [
    "# Fitting a model\n",
    "logreg = LogisticRegression(C=1, penalty='l1', solver='saga')\n",
    "logreg.fit(X_train_transformed, y_train)\n",
    "\n",
    "# Training and test score\n",
    "print(f\"Train score: {logreg.score(X_train_transformed, y_train)}\")\n",
    "print(f\"Test score: {logreg.score(X_test_transformed, y_test)}\")"
   ]
  },
  {
   "attachments": {},
   "cell_type": "markdown",
   "metadata": {},
   "source": [
    "# SVM Grid Search"
   ]
  },
  {
   "cell_type": "code",
   "execution_count": 8,
   "metadata": {},
   "outputs": [],
   "source": [
    "from sklearn.svm import LinearSVC\n",
    "\n",
    "# Create placeholders for all three steps\n",
    "estimators = [('model', LinearSVC())]\n",
    "\n",
    "my_pipe = Pipeline(estimators)\n",
    "\n",
    "param_grid = [{\n",
    "        'model': [LinearSVC()],\n",
    "        'model__C': [0.001, 0.1, 1, 10, 100],\n",
    "        'model__penalty': ['l1', 'l2']\n",
    "            }]\n"
   ]
  },
  {
   "cell_type": "code",
   "execution_count": null,
   "metadata": {},
   "outputs": [],
   "source": [
    "grid = GridSearchCV(my_pipe, param_grid, cv=5)\n",
    "\n",
    "fittedgrid = grid.fit(X_train_transformed, y_train)"
   ]
  },
  {
   "cell_type": "code",
   "execution_count": 15,
   "metadata": {},
   "outputs": [
    {
     "data": {
      "text/plain": [
       "{'model': LinearSVC(C=0.1), 'model__C': 0.1, 'model__penalty': 'l2'}"
      ]
     },
     "execution_count": 15,
     "metadata": {},
     "output_type": "execute_result"
    }
   ],
   "source": [
    "fittedgrid.best_params_"
   ]
  },
  {
   "cell_type": "code",
   "execution_count": 9,
   "metadata": {},
   "outputs": [
    {
     "name": "stdout",
     "output_type": "stream",
     "text": [
      "The TRAIN classification accuracy is:  0.7105154532789846\n",
      "The TEST classification accuracy is:  0.6840801795526662\n"
     ]
    }
   ],
   "source": [
    "SVM_model = LinearSVC(C=0.1, penalty='l2')\n",
    "SVM_model.fit(X_train_transformed, y_train)\n",
    "\n",
    "print(f\"The TRAIN classification accuracy is:  {SVM_model.score(X_train_transformed,y_train)}\")\n",
    "print(f\"The TEST classification accuracy is:  {SVM_model.score(X_test_transformed,y_test)}\")"
   ]
  },
  {
   "attachments": {},
   "cell_type": "markdown",
   "metadata": {},
   "source": [
    "# Decision Tree Grid Search"
   ]
  },
  {
   "cell_type": "code",
   "execution_count": 10,
   "metadata": {},
   "outputs": [],
   "source": [
    "from sklearn.tree import DecisionTreeClassifier\n",
    "\n",
    "# Create placeholders for all three steps\n",
    "estimators = [('model', DecisionTreeClassifier())]\n",
    "\n",
    "my_pipe = Pipeline(estimators)\n",
    "\n",
    "param_grid = [{\n",
    "        'model': [DecisionTreeClassifier()], \n",
    "        'model__criterion': ['entropy', 'gini'],\n",
    "        'model__max_depth': [10,20,30,40,50],\n",
    "        'model__min_samples_leaf': [10, 20, 30,40,50]\n",
    "    }]"
   ]
  },
  {
   "cell_type": "code",
   "execution_count": 17,
   "metadata": {},
   "outputs": [],
   "source": [
    "grid = GridSearchCV(my_pipe, param_grid, cv=5)\n",
    "\n",
    "fittedgrid = grid.fit(X_train_transformed, y_train)"
   ]
  },
  {
   "cell_type": "code",
   "execution_count": 18,
   "metadata": {},
   "outputs": [
    {
     "data": {
      "text/plain": [
       "{'model': DecisionTreeClassifier(criterion='entropy', max_depth=50, min_samples_leaf=20),\n",
       " 'model__criterion': 'entropy',\n",
       " 'model__max_depth': 50,\n",
       " 'model__min_samples_leaf': 20}"
      ]
     },
     "execution_count": 18,
     "metadata": {},
     "output_type": "execute_result"
    }
   ],
   "source": [
    "fittedgrid.best_params_"
   ]
  },
  {
   "cell_type": "code",
   "execution_count": 11,
   "metadata": {},
   "outputs": [
    {
     "name": "stdout",
     "output_type": "stream",
     "text": [
      "The TRAIN classification accuracy is:  0.6190341055673082\n",
      "The TEST classification accuracy is:  0.6182957975388902\n"
     ]
    }
   ],
   "source": [
    "# Decision tree\n",
    "#Fit to the training data\n",
    "DT_model = DecisionTreeClassifier(max_depth=30, min_samples_leaf=30)\n",
    "DT_model.fit(X_train_transformed, y_train)\n",
    "\n",
    "print(f\"The TRAIN classification accuracy is:  {DT_model.score(X_train_transformed,y_train)}\")\n",
    "print(f\"The TEST classification accuracy is:  {DT_model.score(X_test_transformed,y_test)}\")"
   ]
  },
  {
   "attachments": {},
   "cell_type": "markdown",
   "metadata": {},
   "source": [
    "# KNN Grid Search"
   ]
  },
  {
   "cell_type": "code",
   "execution_count": 12,
   "metadata": {},
   "outputs": [],
   "source": [
    "from sklearn.neighbors import KNeighborsClassifier\n",
    "\n",
    "# Create placeholders for all three steps\n",
    "estimators = [('model', KNeighborsClassifier())]\n",
    "\n",
    "my_pipe = Pipeline(estimators)\n",
    "\n",
    "param_grid = [{\n",
    "        'model': [KNeighborsClassifier()], \n",
    "        'model__n_neighbors': [2,4,6,8,10,15,20],\n",
    "        'model__p': [1,2]\n",
    "    }]"
   ]
  },
  {
   "cell_type": "code",
   "execution_count": 21,
   "metadata": {},
   "outputs": [],
   "source": [
    "grid = GridSearchCV(my_pipe, param_grid, cv=5)\n",
    "\n",
    "fittedgrid = grid.fit(X_train_transformed, y_train)"
   ]
  },
  {
   "cell_type": "code",
   "execution_count": 22,
   "metadata": {},
   "outputs": [
    {
     "data": {
      "text/plain": [
       "{'model': KNeighborsClassifier(n_neighbors=10, p=1),\n",
       " 'model__n_neighbors': 10,\n",
       " 'model__p': 1}"
      ]
     },
     "execution_count": 22,
     "metadata": {},
     "output_type": "execute_result"
    }
   ],
   "source": [
    "fittedgrid.best_params_"
   ]
  },
  {
   "cell_type": "code",
   "execution_count": 13,
   "metadata": {},
   "outputs": [
    {
     "name": "stdout",
     "output_type": "stream",
     "text": [
      "The TRAIN classification accuracy is:  0.6588153346060575\n",
      "The TEST classification accuracy is:  0.609859917963006\n"
     ]
    }
   ],
   "source": [
    "# Instantiate the model & fit it to our data\n",
    "KNN_model = KNeighborsClassifier(n_neighbors=10, p=1)\n",
    "KNN_model.fit(X_train_transformed, y_train)\n",
    "\n",
    "print(f\"The TRAIN classification accuracy is:  {KNN_model.score(X_train_transformed,y_train)}\")\n",
    "print(f\"The TEST classification accuracy is:  {KNN_model.score(X_test_transformed,y_test)}\")"
   ]
  },
  {
   "attachments": {},
   "cell_type": "markdown",
   "metadata": {},
   "source": [
    "# Grid Search Summary\n",
    "\n",
    "Logistic Regression - (C=1, penalty='l1', solver='saga') <br>\n",
    "SVM - (C=0.1, penalty='l2') <br>\n",
    "Decision Tree - (Criterion='entropy', max_depth=50, min_samples_leaf=20) <br>\n",
    "KNN - (n_neighbors=10, p=1) <br>\n",
    "\n",
    "\n",
    "Update predictions of reddit comments with optimized models\n",
    "- these codes are mainly copied from week3"
   ]
  },
  {
   "cell_type": "code",
   "execution_count": 14,
   "metadata": {},
   "outputs": [],
   "source": [
    "# read in scraped data\n",
    "reddit = pd.read_csv('reddit_comments.csv')\n",
    "\n",
    "# rename 0 column to 'text'\n",
    "reddit.rename(columns = {'0':'text'}, inplace = True)\n",
    "\n",
    "# save text column to 1 variables\n",
    "reddit_text = reddit['text']"
   ]
  },
  {
   "cell_type": "code",
   "execution_count": 16,
   "metadata": {},
   "outputs": [
    {
     "data": {
      "text/plain": [
       "<192x1713 sparse matrix of type '<class 'numpy.int64'>'\n",
       "\twith 883 stored elements in Compressed Sparse Row format>"
      ]
     },
     "execution_count": 16,
     "metadata": {},
     "output_type": "execute_result"
    }
   ],
   "source": [
    "# fit reddit comment to bag-of-words model\n",
    "reddit_transformed =  bagofwords.transform(reddit_text)\n",
    "reddit_transformed"
   ]
  },
  {
   "cell_type": "code",
   "execution_count": 17,
   "metadata": {},
   "outputs": [],
   "source": [
    "# predict logistic regression model\n",
    "reddit_log_pred = logreg.predict(reddit_transformed)\n",
    "\n",
    "# predict SVM model\n",
    "SVM_pred = SVM_model.predict(reddit_transformed)\n",
    "\n",
    "# predict DT model\n",
    "DT_pred = DT_model.predict(reddit_transformed)\n",
    "\n",
    "# predict KNN model\n",
    "KNN_pred = KNN_model.predict(reddit_transformed)"
   ]
  },
  {
   "cell_type": "code",
   "execution_count": 18,
   "metadata": {},
   "outputs": [
    {
     "data": {
      "text/plain": [
       "array([0, 1, 1, 1, 0, 1, 2, 2, 1, 0, 0, 1, 0, 1, 1, 1, 1, 2, 1, 1, 1, 1,\n",
       "       2, 1, 1, 1, 2, 2, 1, 1, 1, 1, 0, 0, 1, 2, 2, 1, 1, 1, 0, 1, 1, 1,\n",
       "       1, 0, 0, 2, 0, 2, 1, 1, 1, 1, 1, 1, 1, 1, 1, 1, 2, 1, 2, 0, 1, 2,\n",
       "       0, 1, 1, 0, 0, 0, 2, 0, 0, 1, 1, 0, 0, 2, 2, 0, 1, 1, 1, 1, 1, 1,\n",
       "       2, 1, 2, 1, 1, 1, 1, 1, 1, 1, 2, 1, 1, 0, 0, 0, 1, 2, 0, 1, 1, 1,\n",
       "       1, 0, 1, 1, 1, 1, 1, 0, 2, 1, 1, 1, 0, 1, 0, 2, 2, 1, 0, 2, 1, 0,\n",
       "       1, 1, 2, 2, 0, 1, 1, 2, 2, 0, 1, 2, 0, 2, 1, 2, 1, 1, 0, 2, 1, 2,\n",
       "       1, 1, 2, 0, 1, 1, 0, 1, 0, 1, 1, 1, 2, 1, 1, 2, 0, 0, 1, 1, 2, 2,\n",
       "       1, 1, 0, 1, 1, 1, 0, 1, 1, 2, 0, 1, 0, 2, 1, 2], dtype=int64)"
      ]
     },
     "execution_count": 18,
     "metadata": {},
     "output_type": "execute_result"
    }
   ],
   "source": [
    "reddit_log_pred"
   ]
  },
  {
   "cell_type": "code",
   "execution_count": 19,
   "metadata": {},
   "outputs": [],
   "source": [
    "# save new predictions to new column\n",
    "reddit['Logistic_Regression'] = reddit_log_pred\n",
    "reddit['SVM'] = SVM_pred\n",
    "reddit['Decision_Tree'] = DT_pred\n",
    "reddit['KNN'] = KNN_pred"
   ]
  },
  {
   "cell_type": "code",
   "execution_count": 20,
   "metadata": {},
   "outputs": [
    {
     "data": {
      "text/html": [
       "<div>\n",
       "<style scoped>\n",
       "    .dataframe tbody tr th:only-of-type {\n",
       "        vertical-align: middle;\n",
       "    }\n",
       "\n",
       "    .dataframe tbody tr th {\n",
       "        vertical-align: top;\n",
       "    }\n",
       "\n",
       "    .dataframe thead th {\n",
       "        text-align: right;\n",
       "    }\n",
       "</style>\n",
       "<table border=\"1\" class=\"dataframe\">\n",
       "  <thead>\n",
       "    <tr style=\"text-align: right;\">\n",
       "      <th></th>\n",
       "      <th>text</th>\n",
       "      <th>Logistic_Regression</th>\n",
       "      <th>SVM</th>\n",
       "      <th>Decision_Tree</th>\n",
       "      <th>KNN</th>\n",
       "    </tr>\n",
       "  </thead>\n",
       "  <tbody>\n",
       "    <tr>\n",
       "      <th>0</th>\n",
       "      <td>Chill everyone, the Newspost says that 7.33 wi...</td>\n",
       "      <td>0</td>\n",
       "      <td>0</td>\n",
       "      <td>0</td>\n",
       "      <td>1</td>\n",
       "    </tr>\n",
       "    <tr>\n",
       "      <th>1</th>\n",
       "      <td>At least CM (Crystal Maiden) not touched.</td>\n",
       "      <td>1</td>\n",
       "      <td>1</td>\n",
       "      <td>1</td>\n",
       "      <td>1</td>\n",
       "    </tr>\n",
       "    <tr>\n",
       "      <th>2</th>\n",
       "      <td>I wanna work with this devs since the work two...</td>\n",
       "      <td>1</td>\n",
       "      <td>1</td>\n",
       "      <td>1</td>\n",
       "      <td>1</td>\n",
       "    </tr>\n",
       "    <tr>\n",
       "      <th>3</th>\n",
       "      <td>7.32e hahahahahah</td>\n",
       "      <td>1</td>\n",
       "      <td>1</td>\n",
       "      <td>1</td>\n",
       "      <td>1</td>\n",
       "    </tr>\n",
       "    <tr>\n",
       "      <th>4</th>\n",
       "      <td># 7.32e Summary\\n\\n* New hero added to the gam...</td>\n",
       "      <td>0</td>\n",
       "      <td>0</td>\n",
       "      <td>0</td>\n",
       "      <td>1</td>\n",
       "    </tr>\n",
       "    <tr>\n",
       "      <th>...</th>\n",
       "      <td>...</td>\n",
       "      <td>...</td>\n",
       "      <td>...</td>\n",
       "      <td>...</td>\n",
       "      <td>...</td>\n",
       "    </tr>\n",
       "    <tr>\n",
       "      <th>187</th>\n",
       "      <td>4.2 GB for minor Lina nerf.  \\n\\n\\nI'm done wi...</td>\n",
       "      <td>1</td>\n",
       "      <td>1</td>\n",
       "      <td>1</td>\n",
       "      <td>1</td>\n",
       "    </tr>\n",
       "    <tr>\n",
       "      <th>188</th>\n",
       "      <td>This is bad lol. Barely any changes other than...</td>\n",
       "      <td>0</td>\n",
       "      <td>0</td>\n",
       "      <td>0</td>\n",
       "      <td>0</td>\n",
       "    </tr>\n",
       "    <tr>\n",
       "      <th>189</th>\n",
       "      <td>Hahahaha we overhyped the patch, it's literall...</td>\n",
       "      <td>2</td>\n",
       "      <td>2</td>\n",
       "      <td>2</td>\n",
       "      <td>2</td>\n",
       "    </tr>\n",
       "    <tr>\n",
       "      <th>190</th>\n",
       "      <td>No 7.33</td>\n",
       "      <td>1</td>\n",
       "      <td>1</td>\n",
       "      <td>1</td>\n",
       "      <td>1</td>\n",
       "    </tr>\n",
       "    <tr>\n",
       "      <th>191</th>\n",
       "      <td>This has to be what sunsfan was talking about ...</td>\n",
       "      <td>2</td>\n",
       "      <td>2</td>\n",
       "      <td>2</td>\n",
       "      <td>2</td>\n",
       "    </tr>\n",
       "  </tbody>\n",
       "</table>\n",
       "<p>192 rows × 5 columns</p>\n",
       "</div>"
      ],
      "text/plain": [
       "                                                  text  Logistic_Regression  \\\n",
       "0    Chill everyone, the Newspost says that 7.33 wi...                    0   \n",
       "1            At least CM (Crystal Maiden) not touched.                    1   \n",
       "2    I wanna work with this devs since the work two...                    1   \n",
       "3                                    7.32e hahahahahah                    1   \n",
       "4    # 7.32e Summary\\n\\n* New hero added to the gam...                    0   \n",
       "..                                                 ...                  ...   \n",
       "187  4.2 GB for minor Lina nerf.  \\n\\n\\nI'm done wi...                    1   \n",
       "188  This is bad lol. Barely any changes other than...                    0   \n",
       "189  Hahahaha we overhyped the patch, it's literall...                    2   \n",
       "190                                            No 7.33                    1   \n",
       "191  This has to be what sunsfan was talking about ...                    2   \n",
       "\n",
       "     SVM  Decision_Tree  KNN  \n",
       "0      0              0    1  \n",
       "1      1              1    1  \n",
       "2      1              1    1  \n",
       "3      1              1    1  \n",
       "4      0              0    1  \n",
       "..   ...            ...  ...  \n",
       "187    1              1    1  \n",
       "188    0              0    0  \n",
       "189    2              2    2  \n",
       "190    1              1    1  \n",
       "191    2              2    2  \n",
       "\n",
       "[192 rows x 5 columns]"
      ]
     },
     "execution_count": 20,
     "metadata": {},
     "output_type": "execute_result"
    }
   ],
   "source": [
    "# check\n",
    "reddit"
   ]
  },
  {
   "cell_type": "code",
   "execution_count": 21,
   "metadata": {},
   "outputs": [],
   "source": [
    "# truncatedSVD for sparse matrix dimentionality reduction\n",
    "from sklearn.decomposition import TruncatedSVD\n",
    "\n",
    "svd = TruncatedSVD(n_components=3)\n",
    "\n",
    "svd.fit(X_train_transformed)\n",
    "\n",
    "reddit_pca = svd.transform(reddit_transformed)"
   ]
  },
  {
   "cell_type": "code",
   "execution_count": 22,
   "metadata": {},
   "outputs": [],
   "source": [
    "# save PCAs to dataframe\n",
    "reddit_pca_df = pd.DataFrame(reddit_pca)"
   ]
  },
  {
   "cell_type": "code",
   "execution_count": 23,
   "metadata": {},
   "outputs": [],
   "source": [
    "# save PCA values to original dataframe\n",
    "reddit['PCA1'] = reddit_pca_df[0]\n",
    "reddit['PCA2'] = reddit_pca_df[1]\n",
    "reddit['PCA3'] = reddit_pca_df[2]"
   ]
  },
  {
   "cell_type": "code",
   "execution_count": 24,
   "metadata": {},
   "outputs": [
    {
     "data": {
      "text/html": [
       "<div>\n",
       "<style scoped>\n",
       "    .dataframe tbody tr th:only-of-type {\n",
       "        vertical-align: middle;\n",
       "    }\n",
       "\n",
       "    .dataframe tbody tr th {\n",
       "        vertical-align: top;\n",
       "    }\n",
       "\n",
       "    .dataframe thead th {\n",
       "        text-align: right;\n",
       "    }\n",
       "</style>\n",
       "<table border=\"1\" class=\"dataframe\">\n",
       "  <thead>\n",
       "    <tr style=\"text-align: right;\">\n",
       "      <th></th>\n",
       "      <th>text</th>\n",
       "      <th>Logistic_Regression</th>\n",
       "      <th>SVM</th>\n",
       "      <th>Decision_Tree</th>\n",
       "      <th>KNN</th>\n",
       "      <th>PCA1</th>\n",
       "      <th>PCA2</th>\n",
       "      <th>PCA3</th>\n",
       "    </tr>\n",
       "  </thead>\n",
       "  <tbody>\n",
       "    <tr>\n",
       "      <th>0</th>\n",
       "      <td>Chill everyone, the Newspost says that 7.33 wi...</td>\n",
       "      <td>0</td>\n",
       "      <td>0</td>\n",
       "      <td>0</td>\n",
       "      <td>1</td>\n",
       "      <td>0.086364</td>\n",
       "      <td>-0.005339</td>\n",
       "      <td>0.057743</td>\n",
       "    </tr>\n",
       "    <tr>\n",
       "      <th>1</th>\n",
       "      <td>At least CM (Crystal Maiden) not touched.</td>\n",
       "      <td>1</td>\n",
       "      <td>1</td>\n",
       "      <td>1</td>\n",
       "      <td>1</td>\n",
       "      <td>0.000000</td>\n",
       "      <td>0.000000</td>\n",
       "      <td>0.000000</td>\n",
       "    </tr>\n",
       "    <tr>\n",
       "      <th>2</th>\n",
       "      <td>I wanna work with this devs since the work two...</td>\n",
       "      <td>1</td>\n",
       "      <td>1</td>\n",
       "      <td>1</td>\n",
       "      <td>1</td>\n",
       "      <td>0.093037</td>\n",
       "      <td>-0.012519</td>\n",
       "      <td>0.075822</td>\n",
       "    </tr>\n",
       "    <tr>\n",
       "      <th>3</th>\n",
       "      <td>7.32e hahahahahah</td>\n",
       "      <td>1</td>\n",
       "      <td>1</td>\n",
       "      <td>1</td>\n",
       "      <td>1</td>\n",
       "      <td>0.000000</td>\n",
       "      <td>0.000000</td>\n",
       "      <td>0.000000</td>\n",
       "    </tr>\n",
       "    <tr>\n",
       "      <th>4</th>\n",
       "      <td># 7.32e Summary\\n\\n* New hero added to the gam...</td>\n",
       "      <td>0</td>\n",
       "      <td>0</td>\n",
       "      <td>0</td>\n",
       "      <td>1</td>\n",
       "      <td>0.070274</td>\n",
       "      <td>0.003729</td>\n",
       "      <td>0.049699</td>\n",
       "    </tr>\n",
       "    <tr>\n",
       "      <th>...</th>\n",
       "      <td>...</td>\n",
       "      <td>...</td>\n",
       "      <td>...</td>\n",
       "      <td>...</td>\n",
       "      <td>...</td>\n",
       "      <td>...</td>\n",
       "      <td>...</td>\n",
       "      <td>...</td>\n",
       "    </tr>\n",
       "    <tr>\n",
       "      <th>187</th>\n",
       "      <td>4.2 GB for minor Lina nerf.  \\n\\n\\nI'm done wi...</td>\n",
       "      <td>1</td>\n",
       "      <td>1</td>\n",
       "      <td>1</td>\n",
       "      <td>1</td>\n",
       "      <td>0.000000</td>\n",
       "      <td>0.000000</td>\n",
       "      <td>0.000000</td>\n",
       "    </tr>\n",
       "    <tr>\n",
       "      <th>188</th>\n",
       "      <td>This is bad lol. Barely any changes other than...</td>\n",
       "      <td>0</td>\n",
       "      <td>0</td>\n",
       "      <td>0</td>\n",
       "      <td>0</td>\n",
       "      <td>0.465283</td>\n",
       "      <td>-0.087559</td>\n",
       "      <td>0.630998</td>\n",
       "    </tr>\n",
       "    <tr>\n",
       "      <th>189</th>\n",
       "      <td>Hahahaha we overhyped the patch, it's literall...</td>\n",
       "      <td>2</td>\n",
       "      <td>2</td>\n",
       "      <td>2</td>\n",
       "      <td>2</td>\n",
       "      <td>0.029562</td>\n",
       "      <td>-0.004852</td>\n",
       "      <td>0.014313</td>\n",
       "    </tr>\n",
       "    <tr>\n",
       "      <th>190</th>\n",
       "      <td>No 7.33</td>\n",
       "      <td>1</td>\n",
       "      <td>1</td>\n",
       "      <td>1</td>\n",
       "      <td>1</td>\n",
       "      <td>0.000000</td>\n",
       "      <td>0.000000</td>\n",
       "      <td>0.000000</td>\n",
       "    </tr>\n",
       "    <tr>\n",
       "      <th>191</th>\n",
       "      <td>This has to be what sunsfan was talking about ...</td>\n",
       "      <td>2</td>\n",
       "      <td>2</td>\n",
       "      <td>2</td>\n",
       "      <td>2</td>\n",
       "      <td>0.024534</td>\n",
       "      <td>-0.003328</td>\n",
       "      <td>0.019448</td>\n",
       "    </tr>\n",
       "  </tbody>\n",
       "</table>\n",
       "<p>192 rows × 8 columns</p>\n",
       "</div>"
      ],
      "text/plain": [
       "                                                  text  Logistic_Regression  \\\n",
       "0    Chill everyone, the Newspost says that 7.33 wi...                    0   \n",
       "1            At least CM (Crystal Maiden) not touched.                    1   \n",
       "2    I wanna work with this devs since the work two...                    1   \n",
       "3                                    7.32e hahahahahah                    1   \n",
       "4    # 7.32e Summary\\n\\n* New hero added to the gam...                    0   \n",
       "..                                                 ...                  ...   \n",
       "187  4.2 GB for minor Lina nerf.  \\n\\n\\nI'm done wi...                    1   \n",
       "188  This is bad lol. Barely any changes other than...                    0   \n",
       "189  Hahahaha we overhyped the patch, it's literall...                    2   \n",
       "190                                            No 7.33                    1   \n",
       "191  This has to be what sunsfan was talking about ...                    2   \n",
       "\n",
       "     SVM  Decision_Tree  KNN      PCA1      PCA2      PCA3  \n",
       "0      0              0    1  0.086364 -0.005339  0.057743  \n",
       "1      1              1    1  0.000000  0.000000  0.000000  \n",
       "2      1              1    1  0.093037 -0.012519  0.075822  \n",
       "3      1              1    1  0.000000  0.000000  0.000000  \n",
       "4      0              0    1  0.070274  0.003729  0.049699  \n",
       "..   ...            ...  ...       ...       ...       ...  \n",
       "187    1              1    1  0.000000  0.000000  0.000000  \n",
       "188    0              0    0  0.465283 -0.087559  0.630998  \n",
       "189    2              2    2  0.029562 -0.004852  0.014313  \n",
       "190    1              1    1  0.000000  0.000000  0.000000  \n",
       "191    2              2    2  0.024534 -0.003328  0.019448  \n",
       "\n",
       "[192 rows x 8 columns]"
      ]
     },
     "execution_count": 24,
     "metadata": {},
     "output_type": "execute_result"
    }
   ],
   "source": [
    "reddit"
   ]
  },
  {
   "cell_type": "code",
   "execution_count": 25,
   "metadata": {},
   "outputs": [],
   "source": [
    "reddit.to_csv('dota_comments_optimized.csv', index = False)"
   ]
  },
  {
   "cell_type": "code",
   "execution_count": null,
   "metadata": {},
   "outputs": [],
   "source": []
  }
 ],
 "metadata": {
  "kernelspec": {
   "display_name": "base",
   "language": "python",
   "name": "python3"
  },
  "language_info": {
   "codemirror_mode": {
    "name": "ipython",
    "version": 3
   },
   "file_extension": ".py",
   "mimetype": "text/x-python",
   "name": "python",
   "nbconvert_exporter": "python",
   "pygments_lexer": "ipython3",
   "version": "3.9.13"
  },
  "orig_nbformat": 4
 },
 "nbformat": 4,
 "nbformat_minor": 2
}
